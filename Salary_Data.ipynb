{
 "cells": [
  {
   "cell_type": "code",
   "execution_count": 2,
   "id": "aadfbb09",
   "metadata": {
    "ExecuteTime": {
     "end_time": "2023-02-13T09:46:59.385008Z",
     "start_time": "2023-02-13T09:46:56.897255Z"
    }
   },
   "outputs": [],
   "source": [
    "import pandas as pd \n",
    "import numpy as np\n",
    "import seaborn as sns\n",
    "import statsmodels.formula.api as smf\n",
    "import matplotlib.pyplot as plt\n",
    "%matplotlib inline\n",
    "\n",
    "import warnings\n",
    "warnings.filterwarnings('ignore')"
   ]
  },
  {
   "cell_type": "code",
   "execution_count": 3,
   "id": "685dc043",
   "metadata": {
    "ExecuteTime": {
     "end_time": "2023-02-13T09:46:59.416147Z",
     "start_time": "2023-02-13T09:46:59.387186Z"
    }
   },
   "outputs": [
    {
     "data": {
      "text/html": [
       "<div>\n",
       "<style scoped>\n",
       "    .dataframe tbody tr th:only-of-type {\n",
       "        vertical-align: middle;\n",
       "    }\n",
       "\n",
       "    .dataframe tbody tr th {\n",
       "        vertical-align: top;\n",
       "    }\n",
       "\n",
       "    .dataframe thead th {\n",
       "        text-align: right;\n",
       "    }\n",
       "</style>\n",
       "<table border=\"1\" class=\"dataframe\">\n",
       "  <thead>\n",
       "    <tr style=\"text-align: right;\">\n",
       "      <th></th>\n",
       "      <th>YearsExperience</th>\n",
       "      <th>Salary</th>\n",
       "    </tr>\n",
       "  </thead>\n",
       "  <tbody>\n",
       "    <tr>\n",
       "      <th>0</th>\n",
       "      <td>1.1</td>\n",
       "      <td>39343.0</td>\n",
       "    </tr>\n",
       "    <tr>\n",
       "      <th>1</th>\n",
       "      <td>1.3</td>\n",
       "      <td>46205.0</td>\n",
       "    </tr>\n",
       "    <tr>\n",
       "      <th>2</th>\n",
       "      <td>1.5</td>\n",
       "      <td>37731.0</td>\n",
       "    </tr>\n",
       "    <tr>\n",
       "      <th>3</th>\n",
       "      <td>2.0</td>\n",
       "      <td>43525.0</td>\n",
       "    </tr>\n",
       "    <tr>\n",
       "      <th>4</th>\n",
       "      <td>2.2</td>\n",
       "      <td>39891.0</td>\n",
       "    </tr>\n",
       "  </tbody>\n",
       "</table>\n",
       "</div>"
      ],
      "text/plain": [
       "   YearsExperience   Salary\n",
       "0              1.1  39343.0\n",
       "1              1.3  46205.0\n",
       "2              1.5  37731.0\n",
       "3              2.0  43525.0\n",
       "4              2.2  39891.0"
      ]
     },
     "execution_count": 3,
     "metadata": {},
     "output_type": "execute_result"
    }
   ],
   "source": [
    "df = pd.read_csv('Salary_Data.csv')\n",
    "df.head()"
   ]
  },
  {
   "cell_type": "markdown",
   "id": "f9f1531e",
   "metadata": {},
   "source": [
    "## EDA"
   ]
  },
  {
   "cell_type": "code",
   "execution_count": 4,
   "id": "943aa9c4",
   "metadata": {
    "ExecuteTime": {
     "end_time": "2023-02-13T09:46:59.431507Z",
     "start_time": "2023-02-13T09:46:59.419237Z"
    }
   },
   "outputs": [
    {
     "data": {
      "text/plain": [
       "(30, 2)"
      ]
     },
     "execution_count": 4,
     "metadata": {},
     "output_type": "execute_result"
    }
   ],
   "source": [
    "df.shape"
   ]
  },
  {
   "cell_type": "code",
   "execution_count": 5,
   "id": "cf2f2f5d",
   "metadata": {
    "ExecuteTime": {
     "end_time": "2023-02-13T09:46:59.461724Z",
     "start_time": "2023-02-13T09:46:59.434033Z"
    }
   },
   "outputs": [
    {
     "data": {
      "text/html": [
       "<div>\n",
       "<style scoped>\n",
       "    .dataframe tbody tr th:only-of-type {\n",
       "        vertical-align: middle;\n",
       "    }\n",
       "\n",
       "    .dataframe tbody tr th {\n",
       "        vertical-align: top;\n",
       "    }\n",
       "\n",
       "    .dataframe thead th {\n",
       "        text-align: right;\n",
       "    }\n",
       "</style>\n",
       "<table border=\"1\" class=\"dataframe\">\n",
       "  <thead>\n",
       "    <tr style=\"text-align: right;\">\n",
       "      <th></th>\n",
       "      <th>YearsExperience</th>\n",
       "      <th>Salary</th>\n",
       "    </tr>\n",
       "  </thead>\n",
       "  <tbody>\n",
       "    <tr>\n",
       "      <th>count</th>\n",
       "      <td>30.000000</td>\n",
       "      <td>30.000000</td>\n",
       "    </tr>\n",
       "    <tr>\n",
       "      <th>mean</th>\n",
       "      <td>5.313333</td>\n",
       "      <td>76003.000000</td>\n",
       "    </tr>\n",
       "    <tr>\n",
       "      <th>std</th>\n",
       "      <td>2.837888</td>\n",
       "      <td>27414.429785</td>\n",
       "    </tr>\n",
       "    <tr>\n",
       "      <th>min</th>\n",
       "      <td>1.100000</td>\n",
       "      <td>37731.000000</td>\n",
       "    </tr>\n",
       "    <tr>\n",
       "      <th>25%</th>\n",
       "      <td>3.200000</td>\n",
       "      <td>56720.750000</td>\n",
       "    </tr>\n",
       "    <tr>\n",
       "      <th>50%</th>\n",
       "      <td>4.700000</td>\n",
       "      <td>65237.000000</td>\n",
       "    </tr>\n",
       "    <tr>\n",
       "      <th>75%</th>\n",
       "      <td>7.700000</td>\n",
       "      <td>100544.750000</td>\n",
       "    </tr>\n",
       "    <tr>\n",
       "      <th>max</th>\n",
       "      <td>10.500000</td>\n",
       "      <td>122391.000000</td>\n",
       "    </tr>\n",
       "  </tbody>\n",
       "</table>\n",
       "</div>"
      ],
      "text/plain": [
       "       YearsExperience         Salary\n",
       "count        30.000000      30.000000\n",
       "mean          5.313333   76003.000000\n",
       "std           2.837888   27414.429785\n",
       "min           1.100000   37731.000000\n",
       "25%           3.200000   56720.750000\n",
       "50%           4.700000   65237.000000\n",
       "75%           7.700000  100544.750000\n",
       "max          10.500000  122391.000000"
      ]
     },
     "execution_count": 5,
     "metadata": {},
     "output_type": "execute_result"
    }
   ],
   "source": [
    "df.describe()"
   ]
  },
  {
   "cell_type": "code",
   "execution_count": 6,
   "id": "643b8bbd",
   "metadata": {
    "ExecuteTime": {
     "end_time": "2023-02-13T09:46:59.476829Z",
     "start_time": "2023-02-13T09:46:59.463445Z"
    }
   },
   "outputs": [
    {
     "data": {
      "text/plain": [
       "0     False\n",
       "1     False\n",
       "2     False\n",
       "3     False\n",
       "4     False\n",
       "5     False\n",
       "6     False\n",
       "7     False\n",
       "8     False\n",
       "9     False\n",
       "10    False\n",
       "11    False\n",
       "12    False\n",
       "13    False\n",
       "14    False\n",
       "15    False\n",
       "16    False\n",
       "17    False\n",
       "18    False\n",
       "19    False\n",
       "20    False\n",
       "21    False\n",
       "22    False\n",
       "23    False\n",
       "24    False\n",
       "25    False\n",
       "26    False\n",
       "27    False\n",
       "28    False\n",
       "29    False\n",
       "dtype: bool"
      ]
     },
     "execution_count": 6,
     "metadata": {},
     "output_type": "execute_result"
    }
   ],
   "source": [
    "df.duplicated()"
   ]
  },
  {
   "cell_type": "code",
   "execution_count": 7,
   "id": "15d24396",
   "metadata": {
    "ExecuteTime": {
     "end_time": "2023-02-13T09:46:59.601516Z",
     "start_time": "2023-02-13T09:46:59.583157Z"
    }
   },
   "outputs": [
    {
     "name": "stdout",
     "output_type": "stream",
     "text": [
      "<class 'pandas.core.frame.DataFrame'>\n",
      "RangeIndex: 30 entries, 0 to 29\n",
      "Data columns (total 2 columns):\n",
      " #   Column           Non-Null Count  Dtype  \n",
      "---  ------           --------------  -----  \n",
      " 0   YearsExperience  30 non-null     float64\n",
      " 1   Salary           30 non-null     float64\n",
      "dtypes: float64(2)\n",
      "memory usage: 608.0 bytes\n"
     ]
    }
   ],
   "source": [
    "df.info()"
   ]
  },
  {
   "cell_type": "markdown",
   "id": "7410c61f",
   "metadata": {},
   "source": [
    "## Data Visualization"
   ]
  },
  {
   "cell_type": "code",
   "execution_count": 10,
   "id": "6c18ad53",
   "metadata": {
    "ExecuteTime": {
     "end_time": "2023-02-13T09:47:23.976386Z",
     "start_time": "2023-02-13T09:47:23.797352Z"
    }
   },
   "outputs": [
    {
     "data": {
      "image/png": "[encoded data removed]",
      "text/plain": [
       "<Figure size 800x600 with 1 Axes>"
      ]
     },
     "metadata": {},
     "output_type": "display_data"
    },
    {
     "data": {
      "image/png": "[encoded data removed]",
      "text/plain": [
       "<Figure size 800x600 with 1 Axes>"
      ]
     },
     "metadata": {},
     "output_type": "display_data"
    }
   ],
   "source": [
    "# Checking for outliers with help of boxplot\n",
    "plt.figure(figsize = (8, 6))\n",
    "plt.tight_layout()\n",
    "sns.boxplot(df.YearsExperience)\n",
    "plt.show()\n",
    "\n",
    "plt.figure(figsize = (8, 6))\n",
    "plt.tight_layout()\n",
    "sns.boxplot(df.Salary)\n",
    "plt.show()"
   ]
  },
  {
   "cell_type": "code",
   "execution_count": 11,
   "id": "85e9b3b3",
   "metadata": {
    "ExecuteTime": {
     "end_time": "2023-02-13T09:48:03.805087Z",
     "start_time": "2023-02-13T09:48:03.546592Z"
    }
   },
   "outputs": [
    {
     "data": {
      "image/png": "[encoded data removed]",
      "text/plain": [
       "<Figure size 800x600 with 1 Axes>"
      ]
     },
     "metadata": {},
     "output_type": "display_data"
    },
    {
     "data": {
      "image/png": "[encoded data removed]",
      "text/plain": [
       "<Figure size 800x600 with 1 Axes>"
      ]
     },
     "metadata": {},
     "output_type": "display_data"
    }
   ],
   "source": [
    "plt.figure(figsize = (8, 6))\n",
    "plt.tight_layout()\n",
    "sns.distplot(df.YearsExperience)\n",
    "plt.show()\n",
    "\n",
    "plt.figure(figsize = (8, 6))\n",
    "plt.tight_layout()\n",
    "sns.distplot(df.Salary)\n",
    "plt.show()"
   ]
  },
  {
   "cell_type": "code",
   "execution_count": 12,
   "id": "061a00eb",
   "metadata": {
    "ExecuteTime": {
     "end_time": "2023-02-13T09:48:35.097021Z",
     "start_time": "2023-02-13T09:48:34.985555Z"
    }
   },
   "outputs": [
    {
     "data": {
      "text/plain": [
       "<AxesSubplot:xlabel='YearsExperience', ylabel='Salary'>"
      ]
     },
     "execution_count": 12,
     "metadata": {},
     "output_type": "execute_result"
    },
    {
     "data": {
      "image/png": "[encoded data removed]",
      "text/plain": [
       "<Figure size 640x480 with 1 Axes>"
      ]
     },
     "metadata": {},
     "output_type": "display_data"
    }
   ],
   "source": [
    "# scatterplot of input variable i.e., YearsExperience Vs. output variable i.e., Salary\n",
    "sns.scatterplot(x = df['YearsExperience'], y = df['Salary'])"
   ]
  },
  {
   "cell_type": "code",
   "execution_count": 13,
   "id": "ab7597b5",
   "metadata": {
    "ExecuteTime": {
     "end_time": "2023-02-13T09:49:01.218672Z",
     "start_time": "2023-02-13T09:49:01.025520Z"
    }
   },
   "outputs": [
    {
     "data": {
      "text/plain": [
       "<AxesSubplot:xlabel='YearsExperience', ylabel='Salary'>"
      ]
     },
     "execution_count": 13,
     "metadata": {},
     "output_type": "execute_result"
    },
    {
     "data": {
      "image/png": "[encoded data removed]",
      "text/plain": [
       "<Figure size 640x480 with 1 Axes>"
      ]
     },
     "metadata": {},
     "output_type": "display_data"
    }
   ],
   "source": [
    "# scatterplot with regression line of input variable i.e., sorting time Vs. output variable i.e., delivery time\n",
    "sns.regplot(x=df['YearsExperience'],y=df['Salary'])"
   ]
  },
  {
   "cell_type": "markdown",
   "id": "9c7eeada",
   "metadata": {},
   "source": [
    "## Correlation Matrix"
   ]
  },
  {
   "cell_type": "code",
   "execution_count": 15,
   "id": "183fa02f",
   "metadata": {
    "ExecuteTime": {
     "end_time": "2023-02-13T09:49:42.635923Z",
     "start_time": "2023-02-13T09:49:42.620786Z"
    }
   },
   "outputs": [
    {
     "data": {
      "text/html": [
       "<div>\n",
       "<style scoped>\n",
       "    .dataframe tbody tr th:only-of-type {\n",
       "        vertical-align: middle;\n",
       "    }\n",
       "\n",
       "    .dataframe tbody tr th {\n",
       "        vertical-align: top;\n",
       "    }\n",
       "\n",
       "    .dataframe thead th {\n",
       "        text-align: right;\n",
       "    }\n",
       "</style>\n",
       "<table border=\"1\" class=\"dataframe\">\n",
       "  <thead>\n",
       "    <tr style=\"text-align: right;\">\n",
       "      <th></th>\n",
       "      <th>YearsExperience</th>\n",
       "      <th>Salary</th>\n",
       "    </tr>\n",
       "  </thead>\n",
       "  <tbody>\n",
       "    <tr>\n",
       "      <th>YearsExperience</th>\n",
       "      <td>1.000000</td>\n",
       "      <td>0.978242</td>\n",
       "    </tr>\n",
       "    <tr>\n",
       "      <th>Salary</th>\n",
       "      <td>0.978242</td>\n",
       "      <td>1.000000</td>\n",
       "    </tr>\n",
       "  </tbody>\n",
       "</table>\n",
       "</div>"
      ],
      "text/plain": [
       "                 YearsExperience    Salary\n",
       "YearsExperience         1.000000  0.978242\n",
       "Salary                  0.978242  1.000000"
      ]
     },
     "execution_count": 15,
     "metadata": {},
     "output_type": "execute_result"
    }
   ],
   "source": [
    "df.corr()"
   ]
  },
  {
   "cell_type": "markdown",
   "id": "ac0209a5",
   "metadata": {},
   "source": [
    "## Model Building"
   ]
  },
  {
   "cell_type": "code",
   "execution_count": 16,
   "id": "eeedc4d6",
   "metadata": {
    "ExecuteTime": {
     "end_time": "2023-02-13T09:50:30.626466Z",
     "start_time": "2023-02-13T09:50:30.611906Z"
    }
   },
   "outputs": [],
   "source": [
    "model = smf.ols('Salary ~ YearsExperience', data = df).fit()"
   ]
  },
  {
   "cell_type": "code",
   "execution_count": 17,
   "id": "8fd0a40c",
   "metadata": {
    "ExecuteTime": {
     "end_time": "2023-02-13T09:50:55.401417Z",
     "start_time": "2023-02-13T09:50:55.393797Z"
    }
   },
   "outputs": [
    {
     "name": "stdout",
     "output_type": "stream",
     "text": [
      "Intercept, Bo:  25792.200198668674\n",
      "YearsExperience, B1:  9449.96232145508\n",
      "tvalue:  Intercept          11.346940\n",
      "YearsExperience    24.950094\n",
      "dtype: float64\n",
      "pvalue:  Intercept          5.511950e-12\n",
      "YearsExperience    1.143068e-20\n",
      "dtype: float64\n",
      "R2:  0.9569566641435086\n",
      "R2_Adj:  0.9554194021486339\n"
     ]
    }
   ],
   "source": [
    "# Coefficients Bo and B1\n",
    "Bo, B1 = model.params\n",
    "print(\"Intercept, Bo: \", Bo)\n",
    "print(\"YearsExperience, B1: \", B1)\n",
    "\n",
    "# Getting tvalue and pvalue\n",
    "tvalue, pvalue = (model.tvalues, model.pvalues)\n",
    "print(\"tvalue: \", tvalue)\n",
    "print(\"pvalue: \", pvalue)\n",
    "\n",
    "# Getting R squared values\n",
    "r_sq, r_sq_adj = (model.rsquared, model.rsquared_adj)\n",
    "print(\"R2: \", r_sq)\n",
    "print(\"R2_Adj: \", r_sq_adj)"
   ]
  },
  {
   "cell_type": "code",
   "execution_count": 18,
   "id": "274f4faa",
   "metadata": {
    "ExecuteTime": {
     "end_time": "2023-02-13T09:51:49.927251Z",
     "start_time": "2023-02-13T09:51:49.902537Z"
    }
   },
   "outputs": [
    {
     "data": {
      "text/html": [
       "<div>\n",
       "<style scoped>\n",
       "    .dataframe tbody tr th:only-of-type {\n",
       "        vertical-align: middle;\n",
       "    }\n",
       "\n",
       "    .dataframe tbody tr th {\n",
       "        vertical-align: top;\n",
       "    }\n",
       "\n",
       "    .dataframe thead th {\n",
       "        text-align: right;\n",
       "    }\n",
       "</style>\n",
       "<table border=\"1\" class=\"dataframe\">\n",
       "  <thead>\n",
       "    <tr style=\"text-align: right;\">\n",
       "      <th></th>\n",
       "      <th>Salary_Actual</th>\n",
       "      <th>Salary_Predicted</th>\n",
       "    </tr>\n",
       "  </thead>\n",
       "  <tbody>\n",
       "    <tr>\n",
       "      <th>0</th>\n",
       "      <td>39343.0</td>\n",
       "      <td>36187.158752</td>\n",
       "    </tr>\n",
       "    <tr>\n",
       "      <th>1</th>\n",
       "      <td>46205.0</td>\n",
       "      <td>38077.151217</td>\n",
       "    </tr>\n",
       "    <tr>\n",
       "      <th>2</th>\n",
       "      <td>37731.0</td>\n",
       "      <td>39967.143681</td>\n",
       "    </tr>\n",
       "    <tr>\n",
       "      <th>3</th>\n",
       "      <td>43525.0</td>\n",
       "      <td>44692.124842</td>\n",
       "    </tr>\n",
       "    <tr>\n",
       "      <th>4</th>\n",
       "      <td>39891.0</td>\n",
       "      <td>46582.117306</td>\n",
       "    </tr>\n",
       "    <tr>\n",
       "      <th>5</th>\n",
       "      <td>56642.0</td>\n",
       "      <td>53197.090931</td>\n",
       "    </tr>\n",
       "    <tr>\n",
       "      <th>6</th>\n",
       "      <td>60150.0</td>\n",
       "      <td>54142.087163</td>\n",
       "    </tr>\n",
       "    <tr>\n",
       "      <th>7</th>\n",
       "      <td>54445.0</td>\n",
       "      <td>56032.079627</td>\n",
       "    </tr>\n",
       "    <tr>\n",
       "      <th>8</th>\n",
       "      <td>64445.0</td>\n",
       "      <td>56032.079627</td>\n",
       "    </tr>\n",
       "    <tr>\n",
       "      <th>9</th>\n",
       "      <td>57189.0</td>\n",
       "      <td>60757.060788</td>\n",
       "    </tr>\n",
       "    <tr>\n",
       "      <th>10</th>\n",
       "      <td>63218.0</td>\n",
       "      <td>62647.053252</td>\n",
       "    </tr>\n",
       "    <tr>\n",
       "      <th>11</th>\n",
       "      <td>55794.0</td>\n",
       "      <td>63592.049484</td>\n",
       "    </tr>\n",
       "    <tr>\n",
       "      <th>12</th>\n",
       "      <td>56957.0</td>\n",
       "      <td>63592.049484</td>\n",
       "    </tr>\n",
       "    <tr>\n",
       "      <th>13</th>\n",
       "      <td>57081.0</td>\n",
       "      <td>64537.045717</td>\n",
       "    </tr>\n",
       "    <tr>\n",
       "      <th>14</th>\n",
       "      <td>61111.0</td>\n",
       "      <td>68317.030645</td>\n",
       "    </tr>\n",
       "    <tr>\n",
       "      <th>15</th>\n",
       "      <td>67938.0</td>\n",
       "      <td>72097.015574</td>\n",
       "    </tr>\n",
       "    <tr>\n",
       "      <th>16</th>\n",
       "      <td>66029.0</td>\n",
       "      <td>73987.008038</td>\n",
       "    </tr>\n",
       "    <tr>\n",
       "      <th>17</th>\n",
       "      <td>83088.0</td>\n",
       "      <td>75877.000502</td>\n",
       "    </tr>\n",
       "    <tr>\n",
       "      <th>18</th>\n",
       "      <td>81363.0</td>\n",
       "      <td>81546.977895</td>\n",
       "    </tr>\n",
       "    <tr>\n",
       "      <th>19</th>\n",
       "      <td>93940.0</td>\n",
       "      <td>82491.974127</td>\n",
       "    </tr>\n",
       "    <tr>\n",
       "      <th>20</th>\n",
       "      <td>91738.0</td>\n",
       "      <td>90051.943985</td>\n",
       "    </tr>\n",
       "    <tr>\n",
       "      <th>21</th>\n",
       "      <td>98273.0</td>\n",
       "      <td>92886.932681</td>\n",
       "    </tr>\n",
       "    <tr>\n",
       "      <th>22</th>\n",
       "      <td>101302.0</td>\n",
       "      <td>100446.902538</td>\n",
       "    </tr>\n",
       "    <tr>\n",
       "      <th>23</th>\n",
       "      <td>113812.0</td>\n",
       "      <td>103281.891235</td>\n",
       "    </tr>\n",
       "    <tr>\n",
       "      <th>24</th>\n",
       "      <td>109431.0</td>\n",
       "      <td>108006.872395</td>\n",
       "    </tr>\n",
       "    <tr>\n",
       "      <th>25</th>\n",
       "      <td>105582.0</td>\n",
       "      <td>110841.861092</td>\n",
       "    </tr>\n",
       "    <tr>\n",
       "      <th>26</th>\n",
       "      <td>116969.0</td>\n",
       "      <td>115566.842252</td>\n",
       "    </tr>\n",
       "    <tr>\n",
       "      <th>27</th>\n",
       "      <td>112635.0</td>\n",
       "      <td>116511.838485</td>\n",
       "    </tr>\n",
       "    <tr>\n",
       "      <th>28</th>\n",
       "      <td>122391.0</td>\n",
       "      <td>123126.812110</td>\n",
       "    </tr>\n",
       "    <tr>\n",
       "      <th>29</th>\n",
       "      <td>121872.0</td>\n",
       "      <td>125016.804574</td>\n",
       "    </tr>\n",
       "  </tbody>\n",
       "</table>\n",
       "</div>"
      ],
      "text/plain": [
       "    Salary_Actual  Salary_Predicted\n",
       "0         39343.0      36187.158752\n",
       "1         46205.0      38077.151217\n",
       "2         37731.0      39967.143681\n",
       "3         43525.0      44692.124842\n",
       "4         39891.0      46582.117306\n",
       "5         56642.0      53197.090931\n",
       "6         60150.0      54142.087163\n",
       "7         54445.0      56032.079627\n",
       "8         64445.0      56032.079627\n",
       "9         57189.0      60757.060788\n",
       "10        63218.0      62647.053252\n",
       "11        55794.0      63592.049484\n",
       "12        56957.0      63592.049484\n",
       "13        57081.0      64537.045717\n",
       "14        61111.0      68317.030645\n",
       "15        67938.0      72097.015574\n",
       "16        66029.0      73987.008038\n",
       "17        83088.0      75877.000502\n",
       "18        81363.0      81546.977895\n",
       "19        93940.0      82491.974127\n",
       "20        91738.0      90051.943985\n",
       "21        98273.0      92886.932681\n",
       "22       101302.0     100446.902538\n",
       "23       113812.0     103281.891235\n",
       "24       109431.0     108006.872395\n",
       "25       105582.0     110841.861092\n",
       "26       116969.0     115566.842252\n",
       "27       112635.0     116511.838485\n",
       "28       122391.0     123126.812110\n",
       "29       121872.0     125016.804574"
      ]
     },
     "execution_count": 18,
     "metadata": {},
     "output_type": "execute_result"
    }
   ],
   "source": [
    "predicted_salary = model.predict(df.YearsExperience)\n",
    "pred_df = pd.DataFrame({'Salary_Actual' : df.Salary, 'Salary_Predicted' : predicted_salary})\n",
    "pred_df"
   ]
  },
  {
   "cell_type": "code",
   "execution_count": 19,
   "id": "6bf4e430",
   "metadata": {
    "ExecuteTime": {
     "end_time": "2023-02-13T09:53:08.858607Z",
     "start_time": "2023-02-13T09:53:08.751602Z"
    }
   },
   "outputs": [
    {
     "data": {
      "image/png": "[encoded data removed]",
      "text/plain": [
       "<Figure size 640x480 with 1 Axes>"
      ]
     },
     "metadata": {},
     "output_type": "display_data"
    }
   ],
   "source": [
    "# Plotting Actual Vs. Predicted Values\n",
    "plt.scatter(df.YearsExperience, df.Salary,  color='gray')\n",
    "plt.plot(df.YearsExperience, predicted_salary, color='red', linewidth=2)\n",
    "plt.title('Actual Vs. Predicted Values')\n",
    "plt.xlabel('Years Of Experience')\n",
    "plt.ylabel('Salary')\n",
    "plt.show()"
   ]
  },
  {
   "cell_type": "code",
   "execution_count": 20,
   "id": "1ba71546",
   "metadata": {
    "ExecuteTime": {
     "end_time": "2023-02-13T09:53:57.980860Z",
     "start_time": "2023-02-13T09:53:57.855806Z"
    }
   },
   "outputs": [
    {
     "name": "stdout",
     "output_type": "stream",
     "text": [
      "Mean Absolute Error: 4644.2012894435375\n",
      "Mean Squared Error: 31270951.722280968\n",
      "Root Mean Squared Error: 5592.043608760662\n",
      "R^2 Score :           0.9569566641435086\n"
     ]
    }
   ],
   "source": [
    "from sklearn import metrics\n",
    "print('Mean Absolute Error:', metrics.mean_absolute_error(df.Salary, predicted_salary))  \n",
    "print('Mean Squared Error:', metrics.mean_squared_error(df.Salary, predicted_salary))  \n",
    "print('Root Mean Squared Error:', np.sqrt(metrics.mean_squared_error(df.Salary, predicted_salary)))\n",
    "print(\"R^2 Score :          \", metrics.r2_score(df.Salary, predicted_salary))"
   ]
  },
  {
   "cell_type": "code",
   "execution_count": 22,
   "id": "2529be2d",
   "metadata": {
    "ExecuteTime": {
     "end_time": "2023-02-13T09:54:39.798569Z",
     "start_time": "2023-02-13T09:54:39.649283Z"
    }
   },
   "outputs": [
    {
     "name": "stdout",
     "output_type": "stream",
     "text": [
      "p-value from the test: below 0.05 generally means non-normal: 0.42797598800582143\n",
      "Residuals are normally distributed\n"
     ]
    },
    {
     "data": {
      "image/png": "[encoded data removed]",
      "text/plain": [
       "<Figure size 1200x600 with 1 Axes>"
      ]
     },
     "metadata": {},
     "output_type": "display_data"
    }
   ],
   "source": [
    "from statsmodels.stats.diagnostic import normal_ad\n",
    "residuals = df.Salary - predicted_salary\n",
    "p_value_thresh=0.05\n",
    "# Performing the test on the residuals\n",
    "p_value = normal_ad(residuals)[1]\n",
    "print('p-value from the test: below 0.05 generally means non-normal:', p_value)\n",
    "\n",
    "# Reporting the normality of the residuals\n",
    "if p_value < p_value_thresh:\n",
    "    print('Residuals are not normally distributed')\n",
    "else:\n",
    "    print('Residuals are normally distributed')\n",
    "\n",
    "# Plotting the residuals distribution\n",
    "plt.subplots(figsize=(12, 6))\n",
    "plt.title('Distribution of Residuals')\n",
    "sns.distplot(residuals)\n",
    "plt.show()"
   ]
  },
  {
   "cell_type": "code",
   "execution_count": 23,
   "id": "55054760",
   "metadata": {
    "ExecuteTime": {
     "end_time": "2023-02-13T09:55:39.057156Z",
     "start_time": "2023-02-13T09:55:39.028286Z"
    }
   },
   "outputs": [
    {
     "data": {
      "text/html": [
       "<table class=\"simpletable\">\n",
       "<caption>OLS Regression Results</caption>\n",
       "<tr>\n",
       "  <th>Dep. Variable:</th>         <td>Salary</td>      <th>  R-squared:         </th> <td>   0.957</td>\n",
       "</tr>\n",
       "<tr>\n",
       "  <th>Model:</th>                   <td>OLS</td>       <th>  Adj. R-squared:    </th> <td>   0.955</td>\n",
       "</tr>\n",
       "<tr>\n",
       "  <th>Method:</th>             <td>Least Squares</td>  <th>  F-statistic:       </th> <td>   622.5</td>\n",
       "</tr>\n",
       "<tr>\n",
       "  <th>Date:</th>             <td>Mon, 13 Feb 2023</td> <th>  Prob (F-statistic):</th> <td>1.14e-20</td>\n",
       "</tr>\n",
       "<tr>\n",
       "  <th>Time:</th>                 <td>15:25:39</td>     <th>  Log-Likelihood:    </th> <td> -301.44</td>\n",
       "</tr>\n",
       "<tr>\n",
       "  <th>No. Observations:</th>      <td>    30</td>      <th>  AIC:               </th> <td>   606.9</td>\n",
       "</tr>\n",
       "<tr>\n",
       "  <th>Df Residuals:</th>          <td>    28</td>      <th>  BIC:               </th> <td>   609.7</td>\n",
       "</tr>\n",
       "<tr>\n",
       "  <th>Df Model:</th>              <td>     1</td>      <th>                     </th>     <td> </td>   \n",
       "</tr>\n",
       "<tr>\n",
       "  <th>Covariance Type:</th>      <td>nonrobust</td>    <th>                     </th>     <td> </td>   \n",
       "</tr>\n",
       "</table>\n",
       "<table class=\"simpletable\">\n",
       "<tr>\n",
       "         <td></td>            <th>coef</th>     <th>std err</th>      <th>t</th>      <th>P>|t|</th>  <th>[0.025</th>    <th>0.975]</th>  \n",
       "</tr>\n",
       "<tr>\n",
       "  <th>Intercept</th>       <td> 2.579e+04</td> <td> 2273.053</td> <td>   11.347</td> <td> 0.000</td> <td> 2.11e+04</td> <td> 3.04e+04</td>\n",
       "</tr>\n",
       "<tr>\n",
       "  <th>YearsExperience</th> <td> 9449.9623</td> <td>  378.755</td> <td>   24.950</td> <td> 0.000</td> <td> 8674.119</td> <td> 1.02e+04</td>\n",
       "</tr>\n",
       "</table>\n",
       "<table class=\"simpletable\">\n",
       "<tr>\n",
       "  <th>Omnibus:</th>       <td> 2.140</td> <th>  Durbin-Watson:     </th> <td>   1.648</td>\n",
       "</tr>\n",
       "<tr>\n",
       "  <th>Prob(Omnibus):</th> <td> 0.343</td> <th>  Jarque-Bera (JB):  </th> <td>   1.569</td>\n",
       "</tr>\n",
       "<tr>\n",
       "  <th>Skew:</th>          <td> 0.363</td> <th>  Prob(JB):          </th> <td>   0.456</td>\n",
       "</tr>\n",
       "<tr>\n",
       "  <th>Kurtosis:</th>      <td> 2.147</td> <th>  Cond. No.          </th> <td>    13.2</td>\n",
       "</tr>\n",
       "</table><br/><br/>Notes:<br/>[1] Standard Errors assume that the covariance matrix of the errors is correctly specified."
      ],
      "text/plain": [
       "<class 'statsmodels.iolib.summary.Summary'>\n",
       "\"\"\"\n",
       "                            OLS Regression Results                            \n",
       "==============================================================================\n",
       "Dep. Variable:                 Salary   R-squared:                       0.957\n",
       "Model:                            OLS   Adj. R-squared:                  0.955\n",
       "Method:                 Least Squares   F-statistic:                     622.5\n",
       "Date:                Mon, 13 Feb 2023   Prob (F-statistic):           1.14e-20\n",
       "Time:                        15:25:39   Log-Likelihood:                -301.44\n",
       "No. Observations:                  30   AIC:                             606.9\n",
       "Df Residuals:                      28   BIC:                             609.7\n",
       "Df Model:                           1                                         \n",
       "Covariance Type:            nonrobust                                         \n",
       "===================================================================================\n",
       "                      coef    std err          t      P>|t|      [0.025      0.975]\n",
       "-----------------------------------------------------------------------------------\n",
       "Intercept        2.579e+04   2273.053     11.347      0.000    2.11e+04    3.04e+04\n",
       "YearsExperience  9449.9623    378.755     24.950      0.000    8674.119    1.02e+04\n",
       "==============================================================================\n",
       "Omnibus:                        2.140   Durbin-Watson:                   1.648\n",
       "Prob(Omnibus):                  0.343   Jarque-Bera (JB):                1.569\n",
       "Skew:                           0.363   Prob(JB):                        0.456\n",
       "Kurtosis:                       2.147   Cond. No.                         13.2\n",
       "==============================================================================\n",
       "\n",
       "Notes:\n",
       "[1] Standard Errors assume that the covariance matrix of the errors is correctly specified.\n",
       "\"\"\""
      ]
     },
     "execution_count": 23,
     "metadata": {},
     "output_type": "execute_result"
    }
   ],
   "source": [
    "model.summary()"
   ]
  },
  {
   "cell_type": "code",
   "execution_count": 24,
   "id": "2bc3494a",
   "metadata": {
    "ExecuteTime": {
     "end_time": "2023-02-13T09:56:30.879651Z",
     "start_time": "2023-02-13T09:56:30.869853Z"
    }
   },
   "outputs": [
    {
     "data": {
      "text/html": [
       "<div>\n",
       "<style scoped>\n",
       "    .dataframe tbody tr th:only-of-type {\n",
       "        vertical-align: middle;\n",
       "    }\n",
       "\n",
       "    .dataframe tbody tr th {\n",
       "        vertical-align: top;\n",
       "    }\n",
       "\n",
       "    .dataframe thead th {\n",
       "        text-align: right;\n",
       "    }\n",
       "</style>\n",
       "<table border=\"1\" class=\"dataframe\">\n",
       "  <thead>\n",
       "    <tr style=\"text-align: right;\">\n",
       "      <th></th>\n",
       "      <th>YearsExperience</th>\n",
       "      <th>Salary</th>\n",
       "      <th>log_YearsExperience</th>\n",
       "    </tr>\n",
       "  </thead>\n",
       "  <tbody>\n",
       "    <tr>\n",
       "      <th>0</th>\n",
       "      <td>1.1</td>\n",
       "      <td>39343.0</td>\n",
       "      <td>0.095310</td>\n",
       "    </tr>\n",
       "    <tr>\n",
       "      <th>1</th>\n",
       "      <td>1.3</td>\n",
       "      <td>46205.0</td>\n",
       "      <td>0.262364</td>\n",
       "    </tr>\n",
       "    <tr>\n",
       "      <th>2</th>\n",
       "      <td>1.5</td>\n",
       "      <td>37731.0</td>\n",
       "      <td>0.405465</td>\n",
       "    </tr>\n",
       "    <tr>\n",
       "      <th>3</th>\n",
       "      <td>2.0</td>\n",
       "      <td>43525.0</td>\n",
       "      <td>0.693147</td>\n",
       "    </tr>\n",
       "    <tr>\n",
       "      <th>4</th>\n",
       "      <td>2.2</td>\n",
       "      <td>39891.0</td>\n",
       "      <td>0.788457</td>\n",
       "    </tr>\n",
       "  </tbody>\n",
       "</table>\n",
       "</div>"
      ],
      "text/plain": [
       "   YearsExperience   Salary  log_YearsExperience\n",
       "0              1.1  39343.0             0.095310\n",
       "1              1.3  46205.0             0.262364\n",
       "2              1.5  37731.0             0.405465\n",
       "3              2.0  43525.0             0.693147\n",
       "4              2.2  39891.0             0.788457"
      ]
     },
     "execution_count": 24,
     "metadata": {},
     "output_type": "execute_result"
    }
   ],
   "source": [
    "# Preparing data for model building\n",
    "df1 = pd.DataFrame.copy(df)\n",
    "df1['log_YearsExperience'] = np.log(df1.YearsExperience)\n",
    "df1.head()"
   ]
  },
  {
   "cell_type": "code",
   "execution_count": 25,
   "id": "7c479ab9",
   "metadata": {
    "ExecuteTime": {
     "end_time": "2023-02-13T09:59:31.932493Z",
     "start_time": "2023-02-13T09:59:31.922852Z"
    }
   },
   "outputs": [],
   "source": [
    "# Building model\n",
    "log_model = smf.ols('Salary ~ log_YearsExperience', data = df1).fit()"
   ]
  },
  {
   "cell_type": "code",
   "execution_count": 26,
   "id": "aa67e3d7",
   "metadata": {
    "ExecuteTime": {
     "end_time": "2023-02-13T10:00:28.498203Z",
     "start_time": "2023-02-13T10:00:28.481418Z"
    }
   },
   "outputs": [
    {
     "name": "stdout",
     "output_type": "stream",
     "text": [
      "Intercept, Bo:  14927.971770057284\n",
      "YearsExperience, B1:  40581.98795977904\n",
      "tvalue:  Intercept               2.895135\n",
      "log_YearsExperience    12.791989\n",
      "dtype: float64\n",
      "pvalue:  Intercept              7.268813e-03\n",
      "log_YearsExperience    3.250155e-13\n",
      "dtype: float64\n",
      "R2:  0.853888882875697\n",
      "R2_Adj:  0.8486706286926862\n"
     ]
    }
   ],
   "source": [
    "# Coefficients Bo and B1\n",
    "Bo, B1 = log_model.params\n",
    "print(\"Intercept, Bo: \", Bo)\n",
    "print(\"YearsExperience, B1: \", B1)\n",
    "\n",
    "# Getting tvalue and pvalue\n",
    "tvalue, pvalue = (log_model.tvalues, log_model.pvalues)\n",
    "print(\"tvalue: \", tvalue)\n",
    "print(\"pvalue: \", pvalue)\n",
    "\n",
    "# Getting R squared values\n",
    "r_sq, r_sq_adj = (log_model.rsquared, log_model.rsquared_adj)\n",
    "print(\"R2: \", r_sq)\n",
    "print(\"R2_Adj: \", r_sq_adj)"
   ]
  },
  {
   "cell_type": "code",
   "execution_count": 27,
   "id": "7ba4bce7",
   "metadata": {
    "ExecuteTime": {
     "end_time": "2023-02-13T10:01:02.487216Z",
     "start_time": "2023-02-13T10:01:02.470294Z"
    }
   },
   "outputs": [
    {
     "data": {
      "text/html": [
       "<div>\n",
       "<style scoped>\n",
       "    .dataframe tbody tr th:only-of-type {\n",
       "        vertical-align: middle;\n",
       "    }\n",
       "\n",
       "    .dataframe tbody tr th {\n",
       "        vertical-align: top;\n",
       "    }\n",
       "\n",
       "    .dataframe thead th {\n",
       "        text-align: right;\n",
       "    }\n",
       "</style>\n",
       "<table border=\"1\" class=\"dataframe\">\n",
       "  <thead>\n",
       "    <tr style=\"text-align: right;\">\n",
       "      <th></th>\n",
       "      <th>Salary_Actual</th>\n",
       "      <th>Salary_Predicted</th>\n",
       "    </tr>\n",
       "  </thead>\n",
       "  <tbody>\n",
       "    <tr>\n",
       "      <th>0</th>\n",
       "      <td>39343.0</td>\n",
       "      <td>18795.848339</td>\n",
       "    </tr>\n",
       "    <tr>\n",
       "      <th>1</th>\n",
       "      <td>46205.0</td>\n",
       "      <td>25575.235192</td>\n",
       "    </tr>\n",
       "    <tr>\n",
       "      <th>2</th>\n",
       "      <td>37731.0</td>\n",
       "      <td>31382.551905</td>\n",
       "    </tr>\n",
       "    <tr>\n",
       "      <th>3</th>\n",
       "      <td>43525.0</td>\n",
       "      <td>43057.262306</td>\n",
       "    </tr>\n",
       "    <tr>\n",
       "      <th>4</th>\n",
       "      <td>39891.0</td>\n",
       "      <td>46925.138875</td>\n",
       "    </tr>\n",
       "    <tr>\n",
       "      <th>5</th>\n",
       "      <td>56642.0</td>\n",
       "      <td>58136.050079</td>\n",
       "    </tr>\n",
       "    <tr>\n",
       "      <th>6</th>\n",
       "      <td>60150.0</td>\n",
       "      <td>59511.842441</td>\n",
       "    </tr>\n",
       "    <tr>\n",
       "      <th>7</th>\n",
       "      <td>54445.0</td>\n",
       "      <td>62130.943929</td>\n",
       "    </tr>\n",
       "    <tr>\n",
       "      <th>8</th>\n",
       "      <td>64445.0</td>\n",
       "      <td>62130.943929</td>\n",
       "    </tr>\n",
       "    <tr>\n",
       "      <th>9</th>\n",
       "      <td>57189.0</td>\n",
       "      <td>68022.718504</td>\n",
       "    </tr>\n",
       "    <tr>\n",
       "      <th>10</th>\n",
       "      <td>63218.0</td>\n",
       "      <td>70159.105863</td>\n",
       "    </tr>\n",
       "    <tr>\n",
       "      <th>11</th>\n",
       "      <td>55794.0</td>\n",
       "      <td>71186.552842</td>\n",
       "    </tr>\n",
       "    <tr>\n",
       "      <th>12</th>\n",
       "      <td>56957.0</td>\n",
       "      <td>71186.552842</td>\n",
       "    </tr>\n",
       "    <tr>\n",
       "      <th>13</th>\n",
       "      <td>57081.0</td>\n",
       "      <td>72188.628149</td>\n",
       "    </tr>\n",
       "    <tr>\n",
       "      <th>14</th>\n",
       "      <td>61111.0</td>\n",
       "      <td>75966.422577</td>\n",
       "    </tr>\n",
       "    <tr>\n",
       "      <th>15</th>\n",
       "      <td>67938.0</td>\n",
       "      <td>79422.295729</td>\n",
       "    </tr>\n",
       "    <tr>\n",
       "      <th>16</th>\n",
       "      <td>66029.0</td>\n",
       "      <td>81045.791737</td>\n",
       "    </tr>\n",
       "    <tr>\n",
       "      <th>17</th>\n",
       "      <td>83088.0</td>\n",
       "      <td>82606.829882</td>\n",
       "    </tr>\n",
       "    <tr>\n",
       "      <th>18</th>\n",
       "      <td>81363.0</td>\n",
       "      <td>86959.066704</td>\n",
       "    </tr>\n",
       "    <tr>\n",
       "      <th>19</th>\n",
       "      <td>93940.0</td>\n",
       "      <td>87641.132977</td>\n",
       "    </tr>\n",
       "    <tr>\n",
       "      <th>20</th>\n",
       "      <td>91738.0</td>\n",
       "      <td>92720.502137</td>\n",
       "    </tr>\n",
       "    <tr>\n",
       "      <th>21</th>\n",
       "      <td>98273.0</td>\n",
       "      <td>94472.514696</td>\n",
       "    </tr>\n",
       "    <tr>\n",
       "      <th>22</th>\n",
       "      <td>101302.0</td>\n",
       "      <td>98805.371390</td>\n",
       "    </tr>\n",
       "    <tr>\n",
       "      <th>23</th>\n",
       "      <td>113812.0</td>\n",
       "      <td>100317.918684</td>\n",
       "    </tr>\n",
       "    <tr>\n",
       "      <th>24</th>\n",
       "      <td>109431.0</td>\n",
       "      <td>102719.920751</td>\n",
       "    </tr>\n",
       "    <tr>\n",
       "      <th>25</th>\n",
       "      <td>105582.0</td>\n",
       "      <td>104095.713112</td>\n",
       "    </tr>\n",
       "    <tr>\n",
       "      <th>26</th>\n",
       "      <td>116969.0</td>\n",
       "      <td>106289.868435</td>\n",
       "    </tr>\n",
       "    <tr>\n",
       "      <th>27</th>\n",
       "      <td>112635.0</td>\n",
       "      <td>106714.814600</td>\n",
       "    </tr>\n",
       "    <tr>\n",
       "      <th>28</th>\n",
       "      <td>122391.0</td>\n",
       "      <td>109571.007247</td>\n",
       "    </tr>\n",
       "    <tr>\n",
       "      <th>29</th>\n",
       "      <td>121872.0</td>\n",
       "      <td>110351.454145</td>\n",
       "    </tr>\n",
       "  </tbody>\n",
       "</table>\n",
       "</div>"
      ],
      "text/plain": [
       "    Salary_Actual  Salary_Predicted\n",
       "0         39343.0      18795.848339\n",
       "1         46205.0      25575.235192\n",
       "2         37731.0      31382.551905\n",
       "3         43525.0      43057.262306\n",
       "4         39891.0      46925.138875\n",
       "5         56642.0      58136.050079\n",
       "6         60150.0      59511.842441\n",
       "7         54445.0      62130.943929\n",
       "8         64445.0      62130.943929\n",
       "9         57189.0      68022.718504\n",
       "10        63218.0      70159.105863\n",
       "11        55794.0      71186.552842\n",
       "12        56957.0      71186.552842\n",
       "13        57081.0      72188.628149\n",
       "14        61111.0      75966.422577\n",
       "15        67938.0      79422.295729\n",
       "16        66029.0      81045.791737\n",
       "17        83088.0      82606.829882\n",
       "18        81363.0      86959.066704\n",
       "19        93940.0      87641.132977\n",
       "20        91738.0      92720.502137\n",
       "21        98273.0      94472.514696\n",
       "22       101302.0      98805.371390\n",
       "23       113812.0     100317.918684\n",
       "24       109431.0     102719.920751\n",
       "25       105582.0     104095.713112\n",
       "26       116969.0     106289.868435\n",
       "27       112635.0     106714.814600\n",
       "28       122391.0     109571.007247\n",
       "29       121872.0     110351.454145"
      ]
     },
     "execution_count": 27,
     "metadata": {},
     "output_type": "execute_result"
    }
   ],
   "source": [
    "predicted_salary = log_model.predict(df1.log_YearsExperience)\n",
    "pred_df = pd.DataFrame({'Salary_Actual' : df.Salary, 'Salary_Predicted' : predicted_salary})\n",
    "pred_df"
   ]
  },
  {
   "cell_type": "code",
   "execution_count": 29,
   "id": "09e71960",
   "metadata": {
    "ExecuteTime": {
     "end_time": "2023-02-13T10:10:31.524355Z",
     "start_time": "2023-02-13T10:10:31.417186Z"
    }
   },
   "outputs": [
    {
     "data": {
      "image/png": "[encoded data removed]",
      "text/plain": [
       "<Figure size 640x480 with 1 Axes>"
      ]
     },
     "metadata": {},
     "output_type": "display_data"
    }
   ],
   "source": [
    "# Plotting Actual Vs. Predicted Values\n",
    "plt.scatter(df1.YearsExperience, df1.Salary,  color='gray')\n",
    "plt.plot(df1.YearsExperience, predicted_salary, color='red', linewidth=2)\n",
    "plt.title('Actual Vs. Predicted Values')\n",
    "plt.xlabel('Years Of Experience')\n",
    "plt.ylabel('Salary')\n",
    "plt.show()"
   ]
  },
  {
   "cell_type": "code",
   "execution_count": 30,
   "id": "2cf7a939",
   "metadata": {
    "ExecuteTime": {
     "end_time": "2023-02-13T10:11:07.502310Z",
     "start_time": "2023-02-13T10:11:07.494929Z"
    }
   },
   "outputs": [
    {
     "name": "stdout",
     "output_type": "stream",
     "text": [
      "Mean Absolute Error: 8443.584664486356\n",
      "Mean Squared Error: 106149618.72183879\n",
      "Root Mean Squared Error: 10302.893706228304\n",
      "R^2 Score :           0.853888882875697\n"
     ]
    }
   ],
   "source": [
    "print('Mean Absolute Error:', metrics.mean_absolute_error(df1.Salary, predicted_salary))  \n",
    "print('Mean Squared Error:', metrics.mean_squared_error(df1.Salary, predicted_salary))  \n",
    "print('Root Mean Squared Error:', np.sqrt(metrics.mean_squared_error(df1.Salary, predicted_salary)))\n",
    "print(\"R^2 Score :          \", metrics.r2_score(df1.Salary, predicted_salary))"
   ]
  },
  {
   "cell_type": "code",
   "execution_count": 31,
   "id": "623bc90a",
   "metadata": {
    "ExecuteTime": {
     "end_time": "2023-02-13T10:11:40.310141Z",
     "start_time": "2023-02-13T10:11:40.173772Z"
    }
   },
   "outputs": [
    {
     "name": "stdout",
     "output_type": "stream",
     "text": [
      "p-value from the test: below 0.05 generally means non-normal: 0.4374194094941122\n",
      "Residuals are normally distributed\n"
     ]
    },
    {
     "data": {
      "image/png": "[encoded data removed]",
      "text/plain": [
       "<Figure size 1200x600 with 1 Axes>"
      ]
     },
     "metadata": {},
     "output_type": "display_data"
    }
   ],
   "source": [
    "residuals = df1.Salary - predicted_salary\n",
    "p_value_thresh=0.05\n",
    "\n",
    "# Performing the test on the residuals\n",
    "p_value = normal_ad(residuals)[1]\n",
    "print('p-value from the test: below 0.05 generally means non-normal:', p_value)\n",
    "\n",
    "# Reporting the normality of the residuals\n",
    "if p_value < p_value_thresh:\n",
    "    print('Residuals are not normally distributed')\n",
    "else:\n",
    "    print('Residuals are normally distributed')\n",
    "\n",
    "# Plotting the residuals distribution\n",
    "plt.subplots(figsize=(12, 6))\n",
    "plt.title('Distribution of Residuals')\n",
    "sns.distplot(residuals)\n",
    "plt.show()"
   ]
  },
  {
   "cell_type": "code",
   "execution_count": 32,
   "id": "f7dddbeb",
   "metadata": {
    "ExecuteTime": {
     "end_time": "2023-02-13T10:11:49.699469Z",
     "start_time": "2023-02-13T10:11:49.681204Z"
    }
   },
   "outputs": [
    {
     "data": {
      "text/html": [
       "<table class=\"simpletable\">\n",
       "<caption>OLS Regression Results</caption>\n",
       "<tr>\n",
       "  <th>Dep. Variable:</th>         <td>Salary</td>      <th>  R-squared:         </th> <td>   0.854</td>\n",
       "</tr>\n",
       "<tr>\n",
       "  <th>Model:</th>                   <td>OLS</td>       <th>  Adj. R-squared:    </th> <td>   0.849</td>\n",
       "</tr>\n",
       "<tr>\n",
       "  <th>Method:</th>             <td>Least Squares</td>  <th>  F-statistic:       </th> <td>   163.6</td>\n",
       "</tr>\n",
       "<tr>\n",
       "  <th>Date:</th>             <td>Mon, 13 Feb 2023</td> <th>  Prob (F-statistic):</th> <td>3.25e-13</td>\n",
       "</tr>\n",
       "<tr>\n",
       "  <th>Time:</th>                 <td>15:41:49</td>     <th>  Log-Likelihood:    </th> <td> -319.77</td>\n",
       "</tr>\n",
       "<tr>\n",
       "  <th>No. Observations:</th>      <td>    30</td>      <th>  AIC:               </th> <td>   643.5</td>\n",
       "</tr>\n",
       "<tr>\n",
       "  <th>Df Residuals:</th>          <td>    28</td>      <th>  BIC:               </th> <td>   646.3</td>\n",
       "</tr>\n",
       "<tr>\n",
       "  <th>Df Model:</th>              <td>     1</td>      <th>                     </th>     <td> </td>   \n",
       "</tr>\n",
       "<tr>\n",
       "  <th>Covariance Type:</th>      <td>nonrobust</td>    <th>                     </th>     <td> </td>   \n",
       "</tr>\n",
       "</table>\n",
       "<table class=\"simpletable\">\n",
       "<tr>\n",
       "           <td></td>              <th>coef</th>     <th>std err</th>      <th>t</th>      <th>P>|t|</th>  <th>[0.025</th>    <th>0.975]</th>  \n",
       "</tr>\n",
       "<tr>\n",
       "  <th>Intercept</th>           <td> 1.493e+04</td> <td> 5156.226</td> <td>    2.895</td> <td> 0.007</td> <td> 4365.921</td> <td> 2.55e+04</td>\n",
       "</tr>\n",
       "<tr>\n",
       "  <th>log_YearsExperience</th> <td> 4.058e+04</td> <td> 3172.453</td> <td>   12.792</td> <td> 0.000</td> <td> 3.41e+04</td> <td> 4.71e+04</td>\n",
       "</tr>\n",
       "</table>\n",
       "<table class=\"simpletable\">\n",
       "<tr>\n",
       "  <th>Omnibus:</th>       <td> 1.094</td> <th>  Durbin-Watson:     </th> <td>   0.512</td>\n",
       "</tr>\n",
       "<tr>\n",
       "  <th>Prob(Omnibus):</th> <td> 0.579</td> <th>  Jarque-Bera (JB):  </th> <td>   0.908</td>\n",
       "</tr>\n",
       "<tr>\n",
       "  <th>Skew:</th>          <td> 0.156</td> <th>  Prob(JB):          </th> <td>   0.635</td>\n",
       "</tr>\n",
       "<tr>\n",
       "  <th>Kurtosis:</th>      <td> 2.207</td> <th>  Cond. No.          </th> <td>    5.76</td>\n",
       "</tr>\n",
       "</table><br/><br/>Notes:<br/>[1] Standard Errors assume that the covariance matrix of the errors is correctly specified."
      ],
      "text/plain": [
       "<class 'statsmodels.iolib.summary.Summary'>\n",
       "\"\"\"\n",
       "                            OLS Regression Results                            \n",
       "==============================================================================\n",
       "Dep. Variable:                 Salary   R-squared:                       0.854\n",
       "Model:                            OLS   Adj. R-squared:                  0.849\n",
       "Method:                 Least Squares   F-statistic:                     163.6\n",
       "Date:                Mon, 13 Feb 2023   Prob (F-statistic):           3.25e-13\n",
       "Time:                        15:41:49   Log-Likelihood:                -319.77\n",
       "No. Observations:                  30   AIC:                             643.5\n",
       "Df Residuals:                      28   BIC:                             646.3\n",
       "Df Model:                           1                                         \n",
       "Covariance Type:            nonrobust                                         \n",
       "=======================================================================================\n",
       "                          coef    std err          t      P>|t|      [0.025      0.975]\n",
       "---------------------------------------------------------------------------------------\n",
       "Intercept            1.493e+04   5156.226      2.895      0.007    4365.921    2.55e+04\n",
       "log_YearsExperience  4.058e+04   3172.453     12.792      0.000    3.41e+04    4.71e+04\n",
       "==============================================================================\n",
       "Omnibus:                        1.094   Durbin-Watson:                   0.512\n",
       "Prob(Omnibus):                  0.579   Jarque-Bera (JB):                0.908\n",
       "Skew:                           0.156   Prob(JB):                        0.635\n",
       "Kurtosis:                       2.207   Cond. No.                         5.76\n",
       "==============================================================================\n",
       "\n",
       "Notes:\n",
       "[1] Standard Errors assume that the covariance matrix of the errors is correctly specified.\n",
       "\"\"\""
      ]
     },
     "execution_count": 32,
     "metadata": {},
     "output_type": "execute_result"
    }
   ],
   "source": [
    "log_model.summary()"
   ]
  },
  {
   "cell_type": "code",
   "execution_count": 33,
   "id": "64f085d2",
   "metadata": {
    "ExecuteTime": {
     "end_time": "2023-02-13T10:12:15.499840Z",
     "start_time": "2023-02-13T10:12:15.476683Z"
    }
   },
   "outputs": [
    {
     "data": {
      "text/html": [
       "<div>\n",
       "<style scoped>\n",
       "    .dataframe tbody tr th:only-of-type {\n",
       "        vertical-align: middle;\n",
       "    }\n",
       "\n",
       "    .dataframe tbody tr th {\n",
       "        vertical-align: top;\n",
       "    }\n",
       "\n",
       "    .dataframe thead th {\n",
       "        text-align: right;\n",
       "    }\n",
       "</style>\n",
       "<table border=\"1\" class=\"dataframe\">\n",
       "  <thead>\n",
       "    <tr style=\"text-align: right;\">\n",
       "      <th></th>\n",
       "      <th>YearsExperience</th>\n",
       "      <th>Salary</th>\n",
       "      <th>log_YearsExperience</th>\n",
       "      <th>log_Salary</th>\n",
       "    </tr>\n",
       "  </thead>\n",
       "  <tbody>\n",
       "    <tr>\n",
       "      <th>0</th>\n",
       "      <td>1.1</td>\n",
       "      <td>39343.0</td>\n",
       "      <td>0.095310</td>\n",
       "      <td>10.580073</td>\n",
       "    </tr>\n",
       "    <tr>\n",
       "      <th>1</th>\n",
       "      <td>1.3</td>\n",
       "      <td>46205.0</td>\n",
       "      <td>0.262364</td>\n",
       "      <td>10.740843</td>\n",
       "    </tr>\n",
       "    <tr>\n",
       "      <th>2</th>\n",
       "      <td>1.5</td>\n",
       "      <td>37731.0</td>\n",
       "      <td>0.405465</td>\n",
       "      <td>10.538237</td>\n",
       "    </tr>\n",
       "    <tr>\n",
       "      <th>3</th>\n",
       "      <td>2.0</td>\n",
       "      <td>43525.0</td>\n",
       "      <td>0.693147</td>\n",
       "      <td>10.681091</td>\n",
       "    </tr>\n",
       "    <tr>\n",
       "      <th>4</th>\n",
       "      <td>2.2</td>\n",
       "      <td>39891.0</td>\n",
       "      <td>0.788457</td>\n",
       "      <td>10.593906</td>\n",
       "    </tr>\n",
       "  </tbody>\n",
       "</table>\n",
       "</div>"
      ],
      "text/plain": [
       "   YearsExperience   Salary  log_YearsExperience  log_Salary\n",
       "0              1.1  39343.0             0.095310   10.580073\n",
       "1              1.3  46205.0             0.262364   10.740843\n",
       "2              1.5  37731.0             0.405465   10.538237\n",
       "3              2.0  43525.0             0.693147   10.681091\n",
       "4              2.2  39891.0             0.788457   10.593906"
      ]
     },
     "execution_count": 33,
     "metadata": {},
     "output_type": "execute_result"
    }
   ],
   "source": [
    "# preparing data to build exponential model\n",
    "df1['log_Salary'] = np.log(df1.Salary)\n",
    "df1.head()"
   ]
  },
  {
   "cell_type": "code",
   "execution_count": 34,
   "id": "737d69ae",
   "metadata": {
    "ExecuteTime": {
     "end_time": "2023-02-13T10:12:33.186840Z",
     "start_time": "2023-02-13T10:12:33.171004Z"
    }
   },
   "outputs": [],
   "source": [
    "# Building model\n",
    "exp_model = smf.ols('log_Salary ~ YearsExperience', data = df1).fit()"
   ]
  },
  {
   "cell_type": "code",
   "execution_count": 35,
   "id": "8b7fb5a3",
   "metadata": {
    "ExecuteTime": {
     "end_time": "2023-02-13T10:12:44.963747Z",
     "start_time": "2023-02-13T10:12:44.941625Z"
    }
   },
   "outputs": [
    {
     "name": "stdout",
     "output_type": "stream",
     "text": [
      "Intercept, Bo:  10.507401896588272\n",
      "YearsExperience, B1:  0.1254528892608573\n",
      "tvalue:  Intercept          273.327166\n",
      "YearsExperience     19.584833\n",
      "dtype: float64\n",
      "pvalue:  Intercept          1.604634e-49\n",
      "YearsExperience    7.027439e-18\n",
      "dtype: float64\n",
      "R2:  0.9319671194084196\n",
      "R2_Adj:  0.929537373673006\n"
     ]
    }
   ],
   "source": [
    "# Coefficients Bo and B1\n",
    "Bo, B1 = exp_model.params\n",
    "print(\"Intercept, Bo: \", Bo)\n",
    "print(\"YearsExperience, B1: \", B1)\n",
    "\n",
    "# Getting tvalue and pvalue\n",
    "tvalue, pvalue = (exp_model.tvalues, exp_model.pvalues)\n",
    "print(\"tvalue: \", tvalue)\n",
    "print(\"pvalue: \", pvalue)\n",
    "\n",
    "# Getting R squared values\n",
    "r_sq, r_sq_adj = (exp_model.rsquared, exp_model.rsquared_adj)\n",
    "print(\"R2: \", r_sq)\n",
    "print(\"R2_Adj: \", r_sq_adj)"
   ]
  },
  {
   "cell_type": "code",
   "execution_count": 37,
   "id": "be34111a",
   "metadata": {
    "ExecuteTime": {
     "end_time": "2023-02-13T10:13:26.077907Z",
     "start_time": "2023-02-13T10:13:26.065761Z"
    }
   },
   "outputs": [
    {
     "data": {
      "text/html": [
       "<div>\n",
       "<style scoped>\n",
       "    .dataframe tbody tr th:only-of-type {\n",
       "        vertical-align: middle;\n",
       "    }\n",
       "\n",
       "    .dataframe tbody tr th {\n",
       "        vertical-align: top;\n",
       "    }\n",
       "\n",
       "    .dataframe thead th {\n",
       "        text-align: right;\n",
       "    }\n",
       "</style>\n",
       "<table border=\"1\" class=\"dataframe\">\n",
       "  <thead>\n",
       "    <tr style=\"text-align: right;\">\n",
       "      <th></th>\n",
       "      <th>Salary_Actual</th>\n",
       "      <th>Salary_Predicted</th>\n",
       "    </tr>\n",
       "  </thead>\n",
       "  <tbody>\n",
       "    <tr>\n",
       "      <th>0</th>\n",
       "      <td>10.580073</td>\n",
       "      <td>10.645400</td>\n",
       "    </tr>\n",
       "    <tr>\n",
       "      <th>1</th>\n",
       "      <td>10.740843</td>\n",
       "      <td>10.670491</td>\n",
       "    </tr>\n",
       "    <tr>\n",
       "      <th>2</th>\n",
       "      <td>10.538237</td>\n",
       "      <td>10.695581</td>\n",
       "    </tr>\n",
       "    <tr>\n",
       "      <th>3</th>\n",
       "      <td>10.681091</td>\n",
       "      <td>10.758308</td>\n",
       "    </tr>\n",
       "    <tr>\n",
       "      <th>4</th>\n",
       "      <td>10.593906</td>\n",
       "      <td>10.783398</td>\n",
       "    </tr>\n",
       "    <tr>\n",
       "      <th>5</th>\n",
       "      <td>10.944506</td>\n",
       "      <td>10.871215</td>\n",
       "    </tr>\n",
       "    <tr>\n",
       "      <th>6</th>\n",
       "      <td>11.004597</td>\n",
       "      <td>10.883761</td>\n",
       "    </tr>\n",
       "    <tr>\n",
       "      <th>7</th>\n",
       "      <td>10.904946</td>\n",
       "      <td>10.908851</td>\n",
       "    </tr>\n",
       "    <tr>\n",
       "      <th>8</th>\n",
       "      <td>11.073567</td>\n",
       "      <td>10.908851</td>\n",
       "    </tr>\n",
       "    <tr>\n",
       "      <th>9</th>\n",
       "      <td>10.954117</td>\n",
       "      <td>10.971578</td>\n",
       "    </tr>\n",
       "    <tr>\n",
       "      <th>10</th>\n",
       "      <td>11.054344</td>\n",
       "      <td>10.996668</td>\n",
       "    </tr>\n",
       "    <tr>\n",
       "      <th>11</th>\n",
       "      <td>10.929422</td>\n",
       "      <td>11.009213</td>\n",
       "    </tr>\n",
       "    <tr>\n",
       "      <th>12</th>\n",
       "      <td>10.950052</td>\n",
       "      <td>11.009213</td>\n",
       "    </tr>\n",
       "    <tr>\n",
       "      <th>13</th>\n",
       "      <td>10.952227</td>\n",
       "      <td>11.021759</td>\n",
       "    </tr>\n",
       "    <tr>\n",
       "      <th>14</th>\n",
       "      <td>11.020447</td>\n",
       "      <td>11.071940</td>\n",
       "    </tr>\n",
       "    <tr>\n",
       "      <th>15</th>\n",
       "      <td>11.126351</td>\n",
       "      <td>11.122121</td>\n",
       "    </tr>\n",
       "    <tr>\n",
       "      <th>16</th>\n",
       "      <td>11.097849</td>\n",
       "      <td>11.147212</td>\n",
       "    </tr>\n",
       "    <tr>\n",
       "      <th>17</th>\n",
       "      <td>11.327656</td>\n",
       "      <td>11.172302</td>\n",
       "    </tr>\n",
       "    <tr>\n",
       "      <th>18</th>\n",
       "      <td>11.306676</td>\n",
       "      <td>11.247574</td>\n",
       "    </tr>\n",
       "    <tr>\n",
       "      <th>19</th>\n",
       "      <td>11.450412</td>\n",
       "      <td>11.260119</td>\n",
       "    </tr>\n",
       "    <tr>\n",
       "      <th>20</th>\n",
       "      <td>11.426692</td>\n",
       "      <td>11.360482</td>\n",
       "    </tr>\n",
       "    <tr>\n",
       "      <th>21</th>\n",
       "      <td>11.495505</td>\n",
       "      <td>11.398117</td>\n",
       "    </tr>\n",
       "    <tr>\n",
       "      <th>22</th>\n",
       "      <td>11.525861</td>\n",
       "      <td>11.498480</td>\n",
       "    </tr>\n",
       "    <tr>\n",
       "      <th>23</th>\n",
       "      <td>11.642303</td>\n",
       "      <td>11.536116</td>\n",
       "    </tr>\n",
       "    <tr>\n",
       "      <th>24</th>\n",
       "      <td>11.603049</td>\n",
       "      <td>11.598842</td>\n",
       "    </tr>\n",
       "    <tr>\n",
       "      <th>25</th>\n",
       "      <td>11.567243</td>\n",
       "      <td>11.636478</td>\n",
       "    </tr>\n",
       "    <tr>\n",
       "      <th>26</th>\n",
       "      <td>11.669664</td>\n",
       "      <td>11.699204</td>\n",
       "    </tr>\n",
       "    <tr>\n",
       "      <th>27</th>\n",
       "      <td>11.631908</td>\n",
       "      <td>11.711750</td>\n",
       "    </tr>\n",
       "    <tr>\n",
       "      <th>28</th>\n",
       "      <td>11.714976</td>\n",
       "      <td>11.799567</td>\n",
       "    </tr>\n",
       "    <tr>\n",
       "      <th>29</th>\n",
       "      <td>11.710727</td>\n",
       "      <td>11.824657</td>\n",
       "    </tr>\n",
       "  </tbody>\n",
       "</table>\n",
       "</div>"
      ],
      "text/plain": [
       "    Salary_Actual  Salary_Predicted\n",
       "0       10.580073         10.645400\n",
       "1       10.740843         10.670491\n",
       "2       10.538237         10.695581\n",
       "3       10.681091         10.758308\n",
       "4       10.593906         10.783398\n",
       "5       10.944506         10.871215\n",
       "6       11.004597         10.883761\n",
       "7       10.904946         10.908851\n",
       "8       11.073567         10.908851\n",
       "9       10.954117         10.971578\n",
       "10      11.054344         10.996668\n",
       "11      10.929422         11.009213\n",
       "12      10.950052         11.009213\n",
       "13      10.952227         11.021759\n",
       "14      11.020447         11.071940\n",
       "15      11.126351         11.122121\n",
       "16      11.097849         11.147212\n",
       "17      11.327656         11.172302\n",
       "18      11.306676         11.247574\n",
       "19      11.450412         11.260119\n",
       "20      11.426692         11.360482\n",
       "21      11.495505         11.398117\n",
       "22      11.525861         11.498480\n",
       "23      11.642303         11.536116\n",
       "24      11.603049         11.598842\n",
       "25      11.567243         11.636478\n",
       "26      11.669664         11.699204\n",
       "27      11.631908         11.711750\n",
       "28      11.714976         11.799567\n",
       "29      11.710727         11.824657"
      ]
     },
     "execution_count": 37,
     "metadata": {},
     "output_type": "execute_result"
    }
   ],
   "source": [
    "predicted_salary = exp_model.predict(df1.YearsExperience)\n",
    "pred_df = pd.DataFrame({'Salary_Actual' : df1.log_Salary, 'Salary_Predicted' : predicted_salary})\n",
    "pred_df"
   ]
  },
  {
   "cell_type": "code",
   "execution_count": 38,
   "id": "24156981",
   "metadata": {
    "ExecuteTime": {
     "end_time": "2023-02-13T10:13:53.470647Z",
     "start_time": "2023-02-13T10:13:53.351791Z"
    }
   },
   "outputs": [
    {
     "data": {
      "image/png": "[encoded data removed]",
      "text/plain": [
       "<Figure size 640x480 with 1 Axes>"
      ]
     },
     "metadata": {},
     "output_type": "display_data"
    }
   ],
   "source": [
    "# Plotting Actual Vs. Predicted Values\n",
    "plt.scatter(df1.YearsExperience, df1.log_Salary,  color='gray')\n",
    "plt.plot(df1.YearsExperience, predicted_salary, color='red', linewidth=2)\n",
    "plt.title('Actual Vs. Predicted Values')\n",
    "plt.xlabel('Years Of Experience')\n",
    "plt.ylabel('Salary')\n",
    "plt.show()"
   ]
  },
  {
   "cell_type": "code",
   "execution_count": 40,
   "id": "022be244",
   "metadata": {
    "ExecuteTime": {
     "end_time": "2023-02-13T10:15:13.851930Z",
     "start_time": "2023-02-13T10:15:13.835370Z"
    }
   },
   "outputs": [
    {
     "name": "stdout",
     "output_type": "stream",
     "text": [
      "Mean Absolute Error: 0.07981492426092238\n",
      "Mean Squared Error: 0.008944311172030277\n",
      "Root Mean Squared Error: 0.09457436847280704\n",
      "R^2 Score :           0.9319671194084196\n"
     ]
    }
   ],
   "source": [
    "print('Mean Absolute Error:', metrics.mean_absolute_error(df1.log_Salary, predicted_salary))  \n",
    "print('Mean Squared Error:', metrics.mean_squared_error(df1.log_Salary, predicted_salary))  \n",
    "print('Root Mean Squared Error:', np.sqrt(metrics.mean_squared_error(df1.log_Salary, predicted_salary)))\n",
    "print(\"R^2 Score :          \", metrics.r2_score(df1.log_Salary, predicted_salary))"
   ]
  },
  {
   "cell_type": "code",
   "execution_count": 41,
   "id": "5e43300c",
   "metadata": {
    "ExecuteTime": {
     "end_time": "2023-02-13T10:15:34.681950Z",
     "start_time": "2023-02-13T10:15:34.659948Z"
    }
   },
   "outputs": [
    {
     "data": {
      "text/html": [
       "<div>\n",
       "<style scoped>\n",
       "    .dataframe tbody tr th:only-of-type {\n",
       "        vertical-align: middle;\n",
       "    }\n",
       "\n",
       "    .dataframe tbody tr th {\n",
       "        vertical-align: top;\n",
       "    }\n",
       "\n",
       "    .dataframe thead th {\n",
       "        text-align: right;\n",
       "    }\n",
       "</style>\n",
       "<table border=\"1\" class=\"dataframe\">\n",
       "  <thead>\n",
       "    <tr style=\"text-align: right;\">\n",
       "      <th></th>\n",
       "      <th>Actual</th>\n",
       "      <th>Predicted</th>\n",
       "    </tr>\n",
       "  </thead>\n",
       "  <tbody>\n",
       "    <tr>\n",
       "      <th>0</th>\n",
       "      <td>39343.0</td>\n",
       "      <td>41998.957468</td>\n",
       "    </tr>\n",
       "    <tr>\n",
       "      <th>1</th>\n",
       "      <td>46205.0</td>\n",
       "      <td>43066.066794</td>\n",
       "    </tr>\n",
       "    <tr>\n",
       "      <th>2</th>\n",
       "      <td>37731.0</td>\n",
       "      <td>44160.289228</td>\n",
       "    </tr>\n",
       "    <tr>\n",
       "      <th>3</th>\n",
       "      <td>43525.0</td>\n",
       "      <td>47019.029189</td>\n",
       "    </tr>\n",
       "    <tr>\n",
       "      <th>4</th>\n",
       "      <td>39891.0</td>\n",
       "      <td>48213.688474</td>\n",
       "    </tr>\n",
       "    <tr>\n",
       "      <th>5</th>\n",
       "      <td>56642.0</td>\n",
       "      <td>52639.142472</td>\n",
       "    </tr>\n",
       "    <tr>\n",
       "      <th>6</th>\n",
       "      <td>60150.0</td>\n",
       "      <td>53303.675386</td>\n",
       "    </tr>\n",
       "    <tr>\n",
       "      <th>7</th>\n",
       "      <td>54445.0</td>\n",
       "      <td>54658.014935</td>\n",
       "    </tr>\n",
       "    <tr>\n",
       "      <th>8</th>\n",
       "      <td>64445.0</td>\n",
       "      <td>54658.014935</td>\n",
       "    </tr>\n",
       "    <tr>\n",
       "      <th>9</th>\n",
       "      <td>57189.0</td>\n",
       "      <td>58196.330788</td>\n",
       "    </tr>\n",
       "    <tr>\n",
       "      <th>10</th>\n",
       "      <td>63218.0</td>\n",
       "      <td>59674.982903</td>\n",
       "    </tr>\n",
       "    <tr>\n",
       "      <th>11</th>\n",
       "      <td>55794.0</td>\n",
       "      <td>60428.338456</td>\n",
       "    </tr>\n",
       "    <tr>\n",
       "      <th>12</th>\n",
       "      <td>56957.0</td>\n",
       "      <td>60428.338456</td>\n",
       "    </tr>\n",
       "    <tr>\n",
       "      <th>13</th>\n",
       "      <td>57081.0</td>\n",
       "      <td>61191.204604</td>\n",
       "    </tr>\n",
       "    <tr>\n",
       "      <th>14</th>\n",
       "      <td>61111.0</td>\n",
       "      <td>64340.199291</td>\n",
       "    </tr>\n",
       "    <tr>\n",
       "      <th>15</th>\n",
       "      <td>67938.0</td>\n",
       "      <td>67651.246149</td>\n",
       "    </tr>\n",
       "    <tr>\n",
       "      <th>16</th>\n",
       "      <td>66029.0</td>\n",
       "      <td>69370.128712</td>\n",
       "    </tr>\n",
       "    <tr>\n",
       "      <th>17</th>\n",
       "      <td>83088.0</td>\n",
       "      <td>71132.684635</td>\n",
       "    </tr>\n",
       "    <tr>\n",
       "      <th>18</th>\n",
       "      <td>81363.0</td>\n",
       "      <td>76693.630780</td>\n",
       "    </tr>\n",
       "    <tr>\n",
       "      <th>19</th>\n",
       "      <td>93940.0</td>\n",
       "      <td>77661.835040</td>\n",
       "    </tr>\n",
       "    <tr>\n",
       "      <th>20</th>\n",
       "      <td>91738.0</td>\n",
       "      <td>85860.704208</td>\n",
       "    </tr>\n",
       "    <tr>\n",
       "      <th>21</th>\n",
       "      <td>98273.0</td>\n",
       "      <td>89153.725393</td>\n",
       "    </tr>\n",
       "    <tr>\n",
       "      <th>22</th>\n",
       "      <td>101302.0</td>\n",
       "      <td>98565.809591</td>\n",
       "    </tr>\n",
       "    <tr>\n",
       "      <th>23</th>\n",
       "      <td>113812.0</td>\n",
       "      <td>102346.110512</td>\n",
       "    </tr>\n",
       "    <tr>\n",
       "      <th>24</th>\n",
       "      <td>109431.0</td>\n",
       "      <td>108971.540758</td>\n",
       "    </tr>\n",
       "    <tr>\n",
       "      <th>25</th>\n",
       "      <td>105582.0</td>\n",
       "      <td>113150.933364</td>\n",
       "    </tr>\n",
       "    <tr>\n",
       "      <th>26</th>\n",
       "      <td>116969.0</td>\n",
       "      <td>120475.819601</td>\n",
       "    </tr>\n",
       "    <tr>\n",
       "      <th>27</th>\n",
       "      <td>112635.0</td>\n",
       "      <td>121996.743836</td>\n",
       "    </tr>\n",
       "    <tr>\n",
       "      <th>28</th>\n",
       "      <td>122391.0</td>\n",
       "      <td>133194.621344</td>\n",
       "    </tr>\n",
       "    <tr>\n",
       "      <th>29</th>\n",
       "      <td>121872.0</td>\n",
       "      <td>136578.829694</td>\n",
       "    </tr>\n",
       "  </tbody>\n",
       "</table>\n",
       "</div>"
      ],
      "text/plain": [
       "      Actual      Predicted\n",
       "0    39343.0   41998.957468\n",
       "1    46205.0   43066.066794\n",
       "2    37731.0   44160.289228\n",
       "3    43525.0   47019.029189\n",
       "4    39891.0   48213.688474\n",
       "5    56642.0   52639.142472\n",
       "6    60150.0   53303.675386\n",
       "7    54445.0   54658.014935\n",
       "8    64445.0   54658.014935\n",
       "9    57189.0   58196.330788\n",
       "10   63218.0   59674.982903\n",
       "11   55794.0   60428.338456\n",
       "12   56957.0   60428.338456\n",
       "13   57081.0   61191.204604\n",
       "14   61111.0   64340.199291\n",
       "15   67938.0   67651.246149\n",
       "16   66029.0   69370.128712\n",
       "17   83088.0   71132.684635\n",
       "18   81363.0   76693.630780\n",
       "19   93940.0   77661.835040\n",
       "20   91738.0   85860.704208\n",
       "21   98273.0   89153.725393\n",
       "22  101302.0   98565.809591\n",
       "23  113812.0  102346.110512\n",
       "24  109431.0  108971.540758\n",
       "25  105582.0  113150.933364\n",
       "26  116969.0  120475.819601\n",
       "27  112635.0  121996.743836\n",
       "28  122391.0  133194.621344\n",
       "29  121872.0  136578.829694"
      ]
     },
     "execution_count": 41,
     "metadata": {},
     "output_type": "execute_result"
    }
   ],
   "source": [
    "pred_df = pd.DataFrame({'Actual': np.exp(df1.log_Salary), 'Predicted': np.exp(predicted_salary)})\n",
    "pred_df"
   ]
  },
  {
   "cell_type": "code",
   "execution_count": 42,
   "id": "40173a88",
   "metadata": {
    "ExecuteTime": {
     "end_time": "2023-02-13T10:16:02.647813Z",
     "start_time": "2023-02-13T10:16:02.493415Z"
    }
   },
   "outputs": [
    {
     "name": "stdout",
     "output_type": "stream",
     "text": [
      "p-value from the test: below 0.05 generally means non-normal: 0.33698612349870344\n",
      "Residuals are normally distributed\n"
     ]
    },
    {
     "data": {
      "image/png": "[encoded data removed]",
      "text/plain": [
       "<Figure size 1200x600 with 1 Axes>"
      ]
     },
     "metadata": {},
     "output_type": "display_data"
    }
   ],
   "source": [
    "residuals = df1.log_Salary - predicted_salary\n",
    "p_value_thresh=0.05\n",
    "\n",
    "# Performing the test on the residuals\n",
    "p_value = normal_ad(residuals)[1]\n",
    "print('p-value from the test: below 0.05 generally means non-normal:', p_value)\n",
    "\n",
    "# Reporting the normality of the residuals\n",
    "if p_value < p_value_thresh:\n",
    "    print('Residuals are not normally distributed')\n",
    "else:\n",
    "    print('Residuals are normally distributed')\n",
    "\n",
    "# Plotting the residuals distribution\n",
    "plt.subplots(figsize=(12, 6))\n",
    "plt.title('Distribution of Residuals')\n",
    "sns.distplot(residuals)\n",
    "plt.show()"
   ]
  },
  {
   "cell_type": "code",
   "execution_count": 43,
   "id": "3087b427",
   "metadata": {
    "ExecuteTime": {
     "end_time": "2023-02-13T10:16:28.339060Z",
     "start_time": "2023-02-13T10:16:28.325015Z"
    }
   },
   "outputs": [
    {
     "data": {
      "text/html": [
       "<table class=\"simpletable\">\n",
       "<caption>OLS Regression Results</caption>\n",
       "<tr>\n",
       "  <th>Dep. Variable:</th>       <td>log_Salary</td>    <th>  R-squared:         </th> <td>   0.932</td>\n",
       "</tr>\n",
       "<tr>\n",
       "  <th>Model:</th>                   <td>OLS</td>       <th>  Adj. R-squared:    </th> <td>   0.930</td>\n",
       "</tr>\n",
       "<tr>\n",
       "  <th>Method:</th>             <td>Least Squares</td>  <th>  F-statistic:       </th> <td>   383.6</td>\n",
       "</tr>\n",
       "<tr>\n",
       "  <th>Date:</th>             <td>Mon, 13 Feb 2023</td> <th>  Prob (F-statistic):</th> <td>7.03e-18</td>\n",
       "</tr>\n",
       "<tr>\n",
       "  <th>Time:</th>                 <td>15:46:28</td>     <th>  Log-Likelihood:    </th> <td>  28.183</td>\n",
       "</tr>\n",
       "<tr>\n",
       "  <th>No. Observations:</th>      <td>    30</td>      <th>  AIC:               </th> <td>  -52.37</td>\n",
       "</tr>\n",
       "<tr>\n",
       "  <th>Df Residuals:</th>          <td>    28</td>      <th>  BIC:               </th> <td>  -49.56</td>\n",
       "</tr>\n",
       "<tr>\n",
       "  <th>Df Model:</th>              <td>     1</td>      <th>                     </th>     <td> </td>   \n",
       "</tr>\n",
       "<tr>\n",
       "  <th>Covariance Type:</th>      <td>nonrobust</td>    <th>                     </th>     <td> </td>   \n",
       "</tr>\n",
       "</table>\n",
       "<table class=\"simpletable\">\n",
       "<tr>\n",
       "         <td></td>            <th>coef</th>     <th>std err</th>      <th>t</th>      <th>P>|t|</th>  <th>[0.025</th>    <th>0.975]</th>  \n",
       "</tr>\n",
       "<tr>\n",
       "  <th>Intercept</th>       <td>   10.5074</td> <td>    0.038</td> <td>  273.327</td> <td> 0.000</td> <td>   10.429</td> <td>   10.586</td>\n",
       "</tr>\n",
       "<tr>\n",
       "  <th>YearsExperience</th> <td>    0.1255</td> <td>    0.006</td> <td>   19.585</td> <td> 0.000</td> <td>    0.112</td> <td>    0.139</td>\n",
       "</tr>\n",
       "</table>\n",
       "<table class=\"simpletable\">\n",
       "<tr>\n",
       "  <th>Omnibus:</th>       <td> 0.826</td> <th>  Durbin-Watson:     </th> <td>   1.438</td>\n",
       "</tr>\n",
       "<tr>\n",
       "  <th>Prob(Omnibus):</th> <td> 0.661</td> <th>  Jarque-Bera (JB):  </th> <td>   0.812</td>\n",
       "</tr>\n",
       "<tr>\n",
       "  <th>Skew:</th>          <td> 0.187</td> <th>  Prob(JB):          </th> <td>   0.666</td>\n",
       "</tr>\n",
       "<tr>\n",
       "  <th>Kurtosis:</th>      <td> 2.286</td> <th>  Cond. No.          </th> <td>    13.2</td>\n",
       "</tr>\n",
       "</table><br/><br/>Notes:<br/>[1] Standard Errors assume that the covariance matrix of the errors is correctly specified."
      ],
      "text/plain": [
       "<class 'statsmodels.iolib.summary.Summary'>\n",
       "\"\"\"\n",
       "                            OLS Regression Results                            \n",
       "==============================================================================\n",
       "Dep. Variable:             log_Salary   R-squared:                       0.932\n",
       "Model:                            OLS   Adj. R-squared:                  0.930\n",
       "Method:                 Least Squares   F-statistic:                     383.6\n",
       "Date:                Mon, 13 Feb 2023   Prob (F-statistic):           7.03e-18\n",
       "Time:                        15:46:28   Log-Likelihood:                 28.183\n",
       "No. Observations:                  30   AIC:                            -52.37\n",
       "Df Residuals:                      28   BIC:                            -49.56\n",
       "Df Model:                           1                                         \n",
       "Covariance Type:            nonrobust                                         \n",
       "===================================================================================\n",
       "                      coef    std err          t      P>|t|      [0.025      0.975]\n",
       "-----------------------------------------------------------------------------------\n",
       "Intercept          10.5074      0.038    273.327      0.000      10.429      10.586\n",
       "YearsExperience     0.1255      0.006     19.585      0.000       0.112       0.139\n",
       "==============================================================================\n",
       "Omnibus:                        0.826   Durbin-Watson:                   1.438\n",
       "Prob(Omnibus):                  0.661   Jarque-Bera (JB):                0.812\n",
       "Skew:                           0.187   Prob(JB):                        0.666\n",
       "Kurtosis:                       2.286   Cond. No.                         13.2\n",
       "==============================================================================\n",
       "\n",
       "Notes:\n",
       "[1] Standard Errors assume that the covariance matrix of the errors is correctly specified.\n",
       "\"\"\""
      ]
     },
     "execution_count": 43,
     "metadata": {},
     "output_type": "execute_result"
    }
   ],
   "source": [
    "exp_model.summary()"
   ]
  },
  {
   "cell_type": "code",
   "execution_count": 44,
   "id": "ad8b67a3",
   "metadata": {
    "ExecuteTime": {
     "end_time": "2023-02-13T10:16:54.707481Z",
     "start_time": "2023-02-13T10:16:54.687377Z"
    }
   },
   "outputs": [
    {
     "data": {
      "text/html": [
       "<div>\n",
       "<style scoped>\n",
       "    .dataframe tbody tr th:only-of-type {\n",
       "        vertical-align: middle;\n",
       "    }\n",
       "\n",
       "    .dataframe tbody tr th {\n",
       "        vertical-align: top;\n",
       "    }\n",
       "\n",
       "    .dataframe thead th {\n",
       "        text-align: right;\n",
       "    }\n",
       "</style>\n",
       "<table border=\"1\" class=\"dataframe\">\n",
       "  <thead>\n",
       "    <tr style=\"text-align: right;\">\n",
       "      <th></th>\n",
       "      <th>YearsExperience</th>\n",
       "      <th>Salary</th>\n",
       "      <th>log_YearsExperience</th>\n",
       "      <th>log_Salary</th>\n",
       "      <th>sqrt_Salary</th>\n",
       "    </tr>\n",
       "  </thead>\n",
       "  <tbody>\n",
       "    <tr>\n",
       "      <th>0</th>\n",
       "      <td>1.1</td>\n",
       "      <td>39343.0</td>\n",
       "      <td>0.095310</td>\n",
       "      <td>10.580073</td>\n",
       "      <td>198.350700</td>\n",
       "    </tr>\n",
       "    <tr>\n",
       "      <th>1</th>\n",
       "      <td>1.3</td>\n",
       "      <td>46205.0</td>\n",
       "      <td>0.262364</td>\n",
       "      <td>10.740843</td>\n",
       "      <td>214.953483</td>\n",
       "    </tr>\n",
       "    <tr>\n",
       "      <th>2</th>\n",
       "      <td>1.5</td>\n",
       "      <td>37731.0</td>\n",
       "      <td>0.405465</td>\n",
       "      <td>10.538237</td>\n",
       "      <td>194.244691</td>\n",
       "    </tr>\n",
       "    <tr>\n",
       "      <th>3</th>\n",
       "      <td>2.0</td>\n",
       "      <td>43525.0</td>\n",
       "      <td>0.693147</td>\n",
       "      <td>10.681091</td>\n",
       "      <td>208.626460</td>\n",
       "    </tr>\n",
       "    <tr>\n",
       "      <th>4</th>\n",
       "      <td>2.2</td>\n",
       "      <td>39891.0</td>\n",
       "      <td>0.788457</td>\n",
       "      <td>10.593906</td>\n",
       "      <td>199.727314</td>\n",
       "    </tr>\n",
       "  </tbody>\n",
       "</table>\n",
       "</div>"
      ],
      "text/plain": [
       "   YearsExperience   Salary  log_YearsExperience  log_Salary  sqrt_Salary\n",
       "0              1.1  39343.0             0.095310   10.580073   198.350700\n",
       "1              1.3  46205.0             0.262364   10.740843   214.953483\n",
       "2              1.5  37731.0             0.405465   10.538237   194.244691\n",
       "3              2.0  43525.0             0.693147   10.681091   208.626460\n",
       "4              2.2  39891.0             0.788457   10.593906   199.727314"
      ]
     },
     "execution_count": 44,
     "metadata": {},
     "output_type": "execute_result"
    }
   ],
   "source": [
    "# preparing data to build model\n",
    "df1['sqrt_Salary'] = np.sqrt(df1.Salary)\n",
    "df1.head()"
   ]
  },
  {
   "cell_type": "code",
   "execution_count": 45,
   "id": "8c0bd1eb",
   "metadata": {
    "ExecuteTime": {
     "end_time": "2023-02-13T10:17:11.951417Z",
     "start_time": "2023-02-13T10:17:11.941409Z"
    }
   },
   "outputs": [],
   "source": [
    "# Building model\n",
    "sqrt_model = smf.ols('sqrt_Salary ~ YearsExperience', data = df1).fit()"
   ]
  },
  {
   "cell_type": "code",
   "execution_count": 46,
   "id": "1e5532e6",
   "metadata": {
    "ExecuteTime": {
     "end_time": "2023-02-13T10:17:23.197898Z",
     "start_time": "2023-02-13T10:17:23.183760Z"
    }
   },
   "outputs": [
    {
     "name": "stdout",
     "output_type": "stream",
     "text": [
      "Intercept, Bo:  180.70022140543097\n",
      "YearsExperience, B1:  17.05653205024198\n",
      "tvalue:  Intercept          40.646251\n",
      "YearsExperience    23.025247\n",
      "dtype: float64\n",
      "pvalue:  Intercept          1.920194e-26\n",
      "YearsExperience    9.782891e-20\n",
      "dtype: float64\n",
      "R2:  0.9498353533865289\n",
      "R2_Adj:  0.9480437588646192\n"
     ]
    }
   ],
   "source": [
    "# Coefficients Bo and B1\n",
    "Bo, B1 = sqrt_model.params\n",
    "print(\"Intercept, Bo: \", Bo)\n",
    "print(\"YearsExperience, B1: \", B1)\n",
    "\n",
    "# Getting tvalue and pvalue\n",
    "tvalue, pvalue = (sqrt_model.tvalues, sqrt_model.pvalues)\n",
    "print(\"tvalue: \", tvalue)\n",
    "print(\"pvalue: \", pvalue)\n",
    "\n",
    "# Getting R squared values\n",
    "r_sq, r_sq_adj = (sqrt_model.rsquared, sqrt_model.rsquared_adj)\n",
    "print(\"R2: \", r_sq)\n",
    "print(\"R2_Adj: \", r_sq_adj)"
   ]
  },
  {
   "cell_type": "code",
   "execution_count": 47,
   "id": "e995d10f",
   "metadata": {
    "ExecuteTime": {
     "end_time": "2023-02-13T10:17:45.376311Z",
     "start_time": "2023-02-13T10:17:45.361217Z"
    }
   },
   "outputs": [
    {
     "data": {
      "text/html": [
       "<div>\n",
       "<style scoped>\n",
       "    .dataframe tbody tr th:only-of-type {\n",
       "        vertical-align: middle;\n",
       "    }\n",
       "\n",
       "    .dataframe tbody tr th {\n",
       "        vertical-align: top;\n",
       "    }\n",
       "\n",
       "    .dataframe thead th {\n",
       "        text-align: right;\n",
       "    }\n",
       "</style>\n",
       "<table border=\"1\" class=\"dataframe\">\n",
       "  <thead>\n",
       "    <tr style=\"text-align: right;\">\n",
       "      <th></th>\n",
       "      <th>Salary_Actual</th>\n",
       "      <th>Salary_Predicted</th>\n",
       "    </tr>\n",
       "  </thead>\n",
       "  <tbody>\n",
       "    <tr>\n",
       "      <th>0</th>\n",
       "      <td>198.350700</td>\n",
       "      <td>199.462407</td>\n",
       "    </tr>\n",
       "    <tr>\n",
       "      <th>1</th>\n",
       "      <td>214.953483</td>\n",
       "      <td>202.873713</td>\n",
       "    </tr>\n",
       "    <tr>\n",
       "      <th>2</th>\n",
       "      <td>194.244691</td>\n",
       "      <td>206.285019</td>\n",
       "    </tr>\n",
       "    <tr>\n",
       "      <th>3</th>\n",
       "      <td>208.626460</td>\n",
       "      <td>214.813286</td>\n",
       "    </tr>\n",
       "    <tr>\n",
       "      <th>4</th>\n",
       "      <td>199.727314</td>\n",
       "      <td>218.224592</td>\n",
       "    </tr>\n",
       "    <tr>\n",
       "      <th>5</th>\n",
       "      <td>237.995798</td>\n",
       "      <td>230.164164</td>\n",
       "    </tr>\n",
       "    <tr>\n",
       "      <th>6</th>\n",
       "      <td>245.254969</td>\n",
       "      <td>231.869818</td>\n",
       "    </tr>\n",
       "    <tr>\n",
       "      <th>7</th>\n",
       "      <td>233.334524</td>\n",
       "      <td>235.281124</td>\n",
       "    </tr>\n",
       "    <tr>\n",
       "      <th>8</th>\n",
       "      <td>253.860198</td>\n",
       "      <td>235.281124</td>\n",
       "    </tr>\n",
       "    <tr>\n",
       "      <th>9</th>\n",
       "      <td>239.142217</td>\n",
       "      <td>243.809390</td>\n",
       "    </tr>\n",
       "    <tr>\n",
       "      <th>10</th>\n",
       "      <td>251.431899</td>\n",
       "      <td>247.220696</td>\n",
       "    </tr>\n",
       "    <tr>\n",
       "      <th>11</th>\n",
       "      <td>236.207536</td>\n",
       "      <td>248.926350</td>\n",
       "    </tr>\n",
       "    <tr>\n",
       "      <th>12</th>\n",
       "      <td>238.656657</td>\n",
       "      <td>248.926350</td>\n",
       "    </tr>\n",
       "    <tr>\n",
       "      <th>13</th>\n",
       "      <td>238.916303</td>\n",
       "      <td>250.632003</td>\n",
       "    </tr>\n",
       "    <tr>\n",
       "      <th>14</th>\n",
       "      <td>247.206392</td>\n",
       "      <td>257.454616</td>\n",
       "    </tr>\n",
       "    <tr>\n",
       "      <th>15</th>\n",
       "      <td>260.649190</td>\n",
       "      <td>264.277228</td>\n",
       "    </tr>\n",
       "    <tr>\n",
       "      <th>16</th>\n",
       "      <td>256.961087</td>\n",
       "      <td>267.688535</td>\n",
       "    </tr>\n",
       "    <tr>\n",
       "      <th>17</th>\n",
       "      <td>288.249892</td>\n",
       "      <td>271.099841</td>\n",
       "    </tr>\n",
       "    <tr>\n",
       "      <th>18</th>\n",
       "      <td>285.242003</td>\n",
       "      <td>281.333761</td>\n",
       "    </tr>\n",
       "    <tr>\n",
       "      <th>19</th>\n",
       "      <td>306.496330</td>\n",
       "      <td>283.039414</td>\n",
       "    </tr>\n",
       "    <tr>\n",
       "      <th>20</th>\n",
       "      <td>302.882816</td>\n",
       "      <td>296.684639</td>\n",
       "    </tr>\n",
       "    <tr>\n",
       "      <th>21</th>\n",
       "      <td>313.485247</td>\n",
       "      <td>301.801599</td>\n",
       "    </tr>\n",
       "    <tr>\n",
       "      <th>22</th>\n",
       "      <td>318.279751</td>\n",
       "      <td>315.446825</td>\n",
       "    </tr>\n",
       "    <tr>\n",
       "      <th>23</th>\n",
       "      <td>337.360341</td>\n",
       "      <td>320.563784</td>\n",
       "    </tr>\n",
       "    <tr>\n",
       "      <th>24</th>\n",
       "      <td>330.803567</td>\n",
       "      <td>329.092050</td>\n",
       "    </tr>\n",
       "    <tr>\n",
       "      <th>25</th>\n",
       "      <td>324.933839</td>\n",
       "      <td>334.209010</td>\n",
       "    </tr>\n",
       "    <tr>\n",
       "      <th>26</th>\n",
       "      <td>342.007310</td>\n",
       "      <td>342.737276</td>\n",
       "    </tr>\n",
       "    <tr>\n",
       "      <th>27</th>\n",
       "      <td>335.611382</td>\n",
       "      <td>344.442929</td>\n",
       "    </tr>\n",
       "    <tr>\n",
       "      <th>28</th>\n",
       "      <td>349.844251</td>\n",
       "      <td>356.382502</td>\n",
       "    </tr>\n",
       "    <tr>\n",
       "      <th>29</th>\n",
       "      <td>349.101704</td>\n",
       "      <td>359.793808</td>\n",
       "    </tr>\n",
       "  </tbody>\n",
       "</table>\n",
       "</div>"
      ],
      "text/plain": [
       "    Salary_Actual  Salary_Predicted\n",
       "0      198.350700        199.462407\n",
       "1      214.953483        202.873713\n",
       "2      194.244691        206.285019\n",
       "3      208.626460        214.813286\n",
       "4      199.727314        218.224592\n",
       "5      237.995798        230.164164\n",
       "6      245.254969        231.869818\n",
       "7      233.334524        235.281124\n",
       "8      253.860198        235.281124\n",
       "9      239.142217        243.809390\n",
       "10     251.431899        247.220696\n",
       "11     236.207536        248.926350\n",
       "12     238.656657        248.926350\n",
       "13     238.916303        250.632003\n",
       "14     247.206392        257.454616\n",
       "15     260.649190        264.277228\n",
       "16     256.961087        267.688535\n",
       "17     288.249892        271.099841\n",
       "18     285.242003        281.333761\n",
       "19     306.496330        283.039414\n",
       "20     302.882816        296.684639\n",
       "21     313.485247        301.801599\n",
       "22     318.279751        315.446825\n",
       "23     337.360341        320.563784\n",
       "24     330.803567        329.092050\n",
       "25     324.933839        334.209010\n",
       "26     342.007310        342.737276\n",
       "27     335.611382        344.442929\n",
       "28     349.844251        356.382502\n",
       "29     349.101704        359.793808"
      ]
     },
     "execution_count": 47,
     "metadata": {},
     "output_type": "execute_result"
    }
   ],
   "source": [
    "predicted_salary = sqrt_model.predict(df1.YearsExperience)\n",
    "pred_df = pd.DataFrame({'Salary_Actual' : df1.sqrt_Salary, 'Salary_Predicted' : predicted_salary})\n",
    "pred_df"
   ]
  },
  {
   "cell_type": "code",
   "execution_count": 48,
   "id": "7c2155f9",
   "metadata": {
    "ExecuteTime": {
     "end_time": "2023-02-13T10:18:15.400063Z",
     "start_time": "2023-02-13T10:18:15.291966Z"
    }
   },
   "outputs": [
    {
     "data": {
      "image/png": "[encoded data removed]",
      "text/plain": [
       "<Figure size 640x480 with 1 Axes>"
      ]
     },
     "metadata": {},
     "output_type": "display_data"
    }
   ],
   "source": [
    "# Plotting Actual Vs. Predicted Values\n",
    "plt.scatter(df1.YearsExperience, df1.sqrt_Salary,  color='gray')\n",
    "plt.plot(df1.YearsExperience, predicted_salary, color='red', linewidth=2)\n",
    "plt.title('Actual Vs. Predicted Values')\n",
    "plt.xlabel('Years Of Experience')\n",
    "plt.ylabel('Salary')\n",
    "plt.show()"
   ]
  },
  {
   "cell_type": "code",
   "execution_count": 50,
   "id": "ab16a7d7",
   "metadata": {
    "ExecuteTime": {
     "end_time": "2023-02-13T10:19:12.512931Z",
     "start_time": "2023-02-13T10:19:12.498764Z"
    }
   },
   "outputs": [
    {
     "name": "stdout",
     "output_type": "stream",
     "text": [
      "Mean Absolute Error: 9.321657712741537\n",
      "Mean Squared Error: 119.61845560327346\n",
      "Root Mean Squared Error: 10.937022245715397\n",
      "R^2 Score :           0.9498353533865289\n"
     ]
    }
   ],
   "source": [
    "print('Mean Absolute Error:', metrics.mean_absolute_error(df1.sqrt_Salary, predicted_salary))  \n",
    "print('Mean Squared Error:', metrics.mean_squared_error(df1.sqrt_Salary, predicted_salary))  \n",
    "print('Root Mean Squared Error:', np.sqrt(metrics.mean_squared_error(df1.sqrt_Salary, predicted_salary)))\n",
    "print(\"R^2 Score :          \", metrics.r2_score(df1.sqrt_Salary, predicted_salary))"
   ]
  },
  {
   "cell_type": "code",
   "execution_count": 52,
   "id": "5978403c",
   "metadata": {
    "ExecuteTime": {
     "end_time": "2023-02-13T10:19:31.976786Z",
     "start_time": "2023-02-13T10:19:31.952806Z"
    }
   },
   "outputs": [
    {
     "data": {
      "text/html": [
       "<div>\n",
       "<style scoped>\n",
       "    .dataframe tbody tr th:only-of-type {\n",
       "        vertical-align: middle;\n",
       "    }\n",
       "\n",
       "    .dataframe tbody tr th {\n",
       "        vertical-align: top;\n",
       "    }\n",
       "\n",
       "    .dataframe thead th {\n",
       "        text-align: right;\n",
       "    }\n",
       "</style>\n",
       "<table border=\"1\" class=\"dataframe\">\n",
       "  <thead>\n",
       "    <tr style=\"text-align: right;\">\n",
       "      <th></th>\n",
       "      <th>Actual</th>\n",
       "      <th>Predicted</th>\n",
       "    </tr>\n",
       "  </thead>\n",
       "  <tbody>\n",
       "    <tr>\n",
       "      <th>0</th>\n",
       "      <td>39343.0</td>\n",
       "      <td>39785.251671</td>\n",
       "    </tr>\n",
       "    <tr>\n",
       "      <th>1</th>\n",
       "      <td>46205.0</td>\n",
       "      <td>41157.743455</td>\n",
       "    </tr>\n",
       "    <tr>\n",
       "      <th>2</th>\n",
       "      <td>37731.0</td>\n",
       "      <td>42553.509262</td>\n",
       "    </tr>\n",
       "    <tr>\n",
       "      <th>3</th>\n",
       "      <td>43525.0</td>\n",
       "      <td>46144.747630</td>\n",
       "    </tr>\n",
       "    <tr>\n",
       "      <th>4</th>\n",
       "      <td>39891.0</td>\n",
       "      <td>47621.972517</td>\n",
       "    </tr>\n",
       "    <tr>\n",
       "      <th>5</th>\n",
       "      <td>56642.0</td>\n",
       "      <td>52975.542551</td>\n",
       "    </tr>\n",
       "    <tr>\n",
       "      <th>6</th>\n",
       "      <td>60150.0</td>\n",
       "      <td>53763.612294</td>\n",
       "    </tr>\n",
       "    <tr>\n",
       "      <th>7</th>\n",
       "      <td>54445.0</td>\n",
       "      <td>55357.207295</td>\n",
       "    </tr>\n",
       "    <tr>\n",
       "      <th>8</th>\n",
       "      <td>64445.0</td>\n",
       "      <td>55357.207295</td>\n",
       "    </tr>\n",
       "    <tr>\n",
       "      <th>9</th>\n",
       "      <td>57189.0</td>\n",
       "      <td>59443.018648</td>\n",
       "    </tr>\n",
       "    <tr>\n",
       "      <th>10</th>\n",
       "      <td>63218.0</td>\n",
       "      <td>61118.072729</td>\n",
       "    </tr>\n",
       "    <tr>\n",
       "      <th>11</th>\n",
       "      <td>55794.0</td>\n",
       "      <td>61964.327528</td>\n",
       "    </tr>\n",
       "    <tr>\n",
       "      <th>12</th>\n",
       "      <td>56957.0</td>\n",
       "      <td>61964.327528</td>\n",
       "    </tr>\n",
       "    <tr>\n",
       "      <th>13</th>\n",
       "      <td>57081.0</td>\n",
       "      <td>62816.400833</td>\n",
       "    </tr>\n",
       "    <tr>\n",
       "      <th>14</th>\n",
       "      <td>61111.0</td>\n",
       "      <td>66282.879110</td>\n",
       "    </tr>\n",
       "    <tr>\n",
       "      <th>15</th>\n",
       "      <td>67938.0</td>\n",
       "      <td>69842.453478</td>\n",
       "    </tr>\n",
       "    <tr>\n",
       "      <th>16</th>\n",
       "      <td>66029.0</td>\n",
       "      <td>71657.151696</td>\n",
       "    </tr>\n",
       "    <tr>\n",
       "      <th>17</th>\n",
       "      <td>83088.0</td>\n",
       "      <td>73495.123938</td>\n",
       "    </tr>\n",
       "    <tr>\n",
       "      <th>18</th>\n",
       "      <td>81363.0</td>\n",
       "      <td>79148.684798</td>\n",
       "    </tr>\n",
       "    <tr>\n",
       "      <th>19</th>\n",
       "      <td>93940.0</td>\n",
       "      <td>80111.309712</td>\n",
       "    </tr>\n",
       "    <tr>\n",
       "      <th>20</th>\n",
       "      <td>91738.0</td>\n",
       "      <td>88021.775225</td>\n",
       "    </tr>\n",
       "    <tr>\n",
       "      <th>21</th>\n",
       "      <td>98273.0</td>\n",
       "      <td>91084.205136</td>\n",
       "    </tr>\n",
       "    <tr>\n",
       "      <th>22</th>\n",
       "      <td>101302.0</td>\n",
       "      <td>99506.699152</td>\n",
       "    </tr>\n",
       "    <tr>\n",
       "      <th>23</th>\n",
       "      <td>113812.0</td>\n",
       "      <td>102761.139752</td>\n",
       "    </tr>\n",
       "    <tr>\n",
       "      <th>24</th>\n",
       "      <td>109431.0</td>\n",
       "      <td>108301.577533</td>\n",
       "    </tr>\n",
       "    <tr>\n",
       "      <th>25</th>\n",
       "      <td>105582.0</td>\n",
       "      <td>111695.662270</td>\n",
       "    </tr>\n",
       "    <tr>\n",
       "      <th>26</th>\n",
       "      <td>116969.0</td>\n",
       "      <td>117468.840280</td>\n",
       "    </tr>\n",
       "    <tr>\n",
       "      <th>27</th>\n",
       "      <td>112635.0</td>\n",
       "      <td>118640.931399</td>\n",
       "    </tr>\n",
       "    <tr>\n",
       "      <th>28</th>\n",
       "      <td>122391.0</td>\n",
       "      <td>127008.487392</td>\n",
       "    </tr>\n",
       "    <tr>\n",
       "      <th>29</th>\n",
       "      <td>121872.0</td>\n",
       "      <td>129451.584227</td>\n",
       "    </tr>\n",
       "  </tbody>\n",
       "</table>\n",
       "</div>"
      ],
      "text/plain": [
       "      Actual      Predicted\n",
       "0    39343.0   39785.251671\n",
       "1    46205.0   41157.743455\n",
       "2    37731.0   42553.509262\n",
       "3    43525.0   46144.747630\n",
       "4    39891.0   47621.972517\n",
       "5    56642.0   52975.542551\n",
       "6    60150.0   53763.612294\n",
       "7    54445.0   55357.207295\n",
       "8    64445.0   55357.207295\n",
       "9    57189.0   59443.018648\n",
       "10   63218.0   61118.072729\n",
       "11   55794.0   61964.327528\n",
       "12   56957.0   61964.327528\n",
       "13   57081.0   62816.400833\n",
       "14   61111.0   66282.879110\n",
       "15   67938.0   69842.453478\n",
       "16   66029.0   71657.151696\n",
       "17   83088.0   73495.123938\n",
       "18   81363.0   79148.684798\n",
       "19   93940.0   80111.309712\n",
       "20   91738.0   88021.775225\n",
       "21   98273.0   91084.205136\n",
       "22  101302.0   99506.699152\n",
       "23  113812.0  102761.139752\n",
       "24  109431.0  108301.577533\n",
       "25  105582.0  111695.662270\n",
       "26  116969.0  117468.840280\n",
       "27  112635.0  118640.931399\n",
       "28  122391.0  127008.487392\n",
       "29  121872.0  129451.584227"
      ]
     },
     "execution_count": 52,
     "metadata": {},
     "output_type": "execute_result"
    }
   ],
   "source": [
    "pred_df = pd.DataFrame({'Actual': (df1.sqrt_Salary)**2, 'Predicted': (predicted_salary)**2})\n",
    "pred_df"
   ]
  },
  {
   "cell_type": "code",
   "execution_count": 54,
   "id": "f0af4248",
   "metadata": {
    "ExecuteTime": {
     "end_time": "2023-02-13T10:20:15.802448Z",
     "start_time": "2023-02-13T10:20:15.673423Z"
    }
   },
   "outputs": [
    {
     "name": "stdout",
     "output_type": "stream",
     "text": [
      "p-value from the test: below 0.05 generally means non-normal: 0.11907877807580869\n",
      "Residuals are normally distributed\n"
     ]
    },
    {
     "data": {
      "image/png": "[encoded data removed]",
      "text/plain": [
       "<Figure size 1200x600 with 1 Axes>"
      ]
     },
     "metadata": {},
     "output_type": "display_data"
    }
   ],
   "source": [
    "residuals = df1.sqrt_Salary - predicted_salary\n",
    "p_value_thresh=0.05\n",
    "\n",
    "# Performing the test on the residuals\n",
    "p_value = normal_ad(residuals)[1]\n",
    "print('p-value from the test: below 0.05 generally means non-normal:', p_value)\n",
    "\n",
    "# Reporting the normality of the residuals\n",
    "if p_value < p_value_thresh:\n",
    "    print('Residuals are not normally distributed')\n",
    "else:\n",
    "    print('Residuals are normally distributed')\n",
    "\n",
    "# Plotting the residuals distribution\n",
    "plt.subplots(figsize=(12, 6))\n",
    "plt.title('Distribution of Residuals')\n",
    "sns.distplot(residuals)\n",
    "plt.show()"
   ]
  },
  {
   "cell_type": "code",
   "execution_count": 55,
   "id": "a1088464",
   "metadata": {
    "ExecuteTime": {
     "end_time": "2023-02-13T10:20:24.884577Z",
     "start_time": "2023-02-13T10:20:24.856711Z"
    }
   },
   "outputs": [
    {
     "data": {
      "text/html": [
       "<table class=\"simpletable\">\n",
       "<caption>OLS Regression Results</caption>\n",
       "<tr>\n",
       "  <th>Dep. Variable:</th>       <td>sqrt_Salary</td>   <th>  R-squared:         </th> <td>   0.950</td>\n",
       "</tr>\n",
       "<tr>\n",
       "  <th>Model:</th>                   <td>OLS</td>       <th>  Adj. R-squared:    </th> <td>   0.948</td>\n",
       "</tr>\n",
       "<tr>\n",
       "  <th>Method:</th>             <td>Least Squares</td>  <th>  F-statistic:       </th> <td>   530.2</td>\n",
       "</tr>\n",
       "<tr>\n",
       "  <th>Date:</th>             <td>Mon, 13 Feb 2023</td> <th>  Prob (F-statistic):</th> <td>9.78e-20</td>\n",
       "</tr>\n",
       "<tr>\n",
       "  <th>Time:</th>                 <td>15:50:24</td>     <th>  Log-Likelihood:    </th> <td> -114.33</td>\n",
       "</tr>\n",
       "<tr>\n",
       "  <th>No. Observations:</th>      <td>    30</td>      <th>  AIC:               </th> <td>   232.7</td>\n",
       "</tr>\n",
       "<tr>\n",
       "  <th>Df Residuals:</th>          <td>    28</td>      <th>  BIC:               </th> <td>   235.5</td>\n",
       "</tr>\n",
       "<tr>\n",
       "  <th>Df Model:</th>              <td>     1</td>      <th>                     </th>     <td> </td>   \n",
       "</tr>\n",
       "<tr>\n",
       "  <th>Covariance Type:</th>      <td>nonrobust</td>    <th>                     </th>     <td> </td>   \n",
       "</tr>\n",
       "</table>\n",
       "<table class=\"simpletable\">\n",
       "<tr>\n",
       "         <td></td>            <th>coef</th>     <th>std err</th>      <th>t</th>      <th>P>|t|</th>  <th>[0.025</th>    <th>0.975]</th>  \n",
       "</tr>\n",
       "<tr>\n",
       "  <th>Intercept</th>       <td>  180.7002</td> <td>    4.446</td> <td>   40.646</td> <td> 0.000</td> <td>  171.594</td> <td>  189.807</td>\n",
       "</tr>\n",
       "<tr>\n",
       "  <th>YearsExperience</th> <td>   17.0565</td> <td>    0.741</td> <td>   23.025</td> <td> 0.000</td> <td>   15.539</td> <td>   18.574</td>\n",
       "</tr>\n",
       "</table>\n",
       "<table class=\"simpletable\">\n",
       "<tr>\n",
       "  <th>Omnibus:</th>       <td> 2.621</td> <th>  Durbin-Watson:     </th> <td>   1.610</td>\n",
       "</tr>\n",
       "<tr>\n",
       "  <th>Prob(Omnibus):</th> <td> 0.270</td> <th>  Jarque-Bera (JB):  </th> <td>   1.906</td>\n",
       "</tr>\n",
       "<tr>\n",
       "  <th>Skew:</th>          <td> 0.439</td> <th>  Prob(JB):          </th> <td>   0.386</td>\n",
       "</tr>\n",
       "<tr>\n",
       "  <th>Kurtosis:</th>      <td> 2.131</td> <th>  Cond. No.          </th> <td>    13.2</td>\n",
       "</tr>\n",
       "</table><br/><br/>Notes:<br/>[1] Standard Errors assume that the covariance matrix of the errors is correctly specified."
      ],
      "text/plain": [
       "<class 'statsmodels.iolib.summary.Summary'>\n",
       "\"\"\"\n",
       "                            OLS Regression Results                            \n",
       "==============================================================================\n",
       "Dep. Variable:            sqrt_Salary   R-squared:                       0.950\n",
       "Model:                            OLS   Adj. R-squared:                  0.948\n",
       "Method:                 Least Squares   F-statistic:                     530.2\n",
       "Date:                Mon, 13 Feb 2023   Prob (F-statistic):           9.78e-20\n",
       "Time:                        15:50:24   Log-Likelihood:                -114.33\n",
       "No. Observations:                  30   AIC:                             232.7\n",
       "Df Residuals:                      28   BIC:                             235.5\n",
       "Df Model:                           1                                         \n",
       "Covariance Type:            nonrobust                                         \n",
       "===================================================================================\n",
       "                      coef    std err          t      P>|t|      [0.025      0.975]\n",
       "-----------------------------------------------------------------------------------\n",
       "Intercept         180.7002      4.446     40.646      0.000     171.594     189.807\n",
       "YearsExperience    17.0565      0.741     23.025      0.000      15.539      18.574\n",
       "==============================================================================\n",
       "Omnibus:                        2.621   Durbin-Watson:                   1.610\n",
       "Prob(Omnibus):                  0.270   Jarque-Bera (JB):                1.906\n",
       "Skew:                           0.439   Prob(JB):                        0.386\n",
       "Kurtosis:                       2.131   Cond. No.                         13.2\n",
       "==============================================================================\n",
       "\n",
       "Notes:\n",
       "[1] Standard Errors assume that the covariance matrix of the errors is correctly specified.\n",
       "\"\"\""
      ]
     },
     "execution_count": 55,
     "metadata": {},
     "output_type": "execute_result"
    }
   ],
   "source": [
    "sqrt_model.summary()"
   ]
  },
  {
   "cell_type": "code",
   "execution_count": null,
   "id": "b8ec121d",
   "metadata": {},
   "outputs": [],
   "source": []
  }
 ],
 "metadata": {
  "kernelspec": {
   "display_name": "Python 3 (ipykernel)",
   "language": "python",
   "name": "python3"
  },
  "language_info": {
   "codemirror_mode": {
    "name": "ipython",
    "version": 3
   },
   "file_extension": ".py",
   "mimetype": "text/x-python",
   "name": "python",
   "nbconvert_exporter": "python",
   "pygments_lexer": "ipython3",
   "version": "3.9.13"
  }
 },
 "nbformat": 4,
 "nbformat_minor": 5
}
